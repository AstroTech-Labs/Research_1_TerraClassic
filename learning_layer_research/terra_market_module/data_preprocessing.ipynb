{
 "cells": [
  {
   "cell_type": "code",
   "execution_count": 3,
   "metadata": {
    "pycharm": {
     "name": "#%%\n"
    }
   },
   "outputs": [],
   "source": [
    "import numpy as np\n",
    "import pandas as pd\n",
    "import requests\n",
    "import matplotlib.pyplot as plt\n",
    "%matplotlib inline \n",
    "\n",
    "pd.set_option('display.max_columns', None)  \n",
    "pd.set_option('display.max_rows', None) \n",
    "pd.set_option('display.max_colwidth', None)\n",
    "pd.options.display.float_format = '{:,.3f}'.format"
   ]
  },
  {
   "cell_type": "code",
   "execution_count": null,
   "metadata": {
    "pycharm": {
     "name": "#%%\n"
    }
   },
   "outputs": [],
   "source": []
  },
  {
   "cell_type": "code",
   "execution_count": null,
   "outputs": [],
   "source": [
    "market_swap_txs_v1 =  pd.read_csv('./txs_data/v1/market_swap_txs.csv')\n",
    "market_swap_send_txs_v1 =  pd.read_csv('./txs_data/v1/market_swap_send_txs.csv')\n",
    "\n",
    "# market_swap_txs_v2 =  pd.read_csv('./txs_data/v2/market_swap_txs.csv')\n",
    "# market_swap_send_txs_v2 =  pd.read_csv('./txs_data/v2/market_swap_send_txs.csv')\n",
    "\n",
    "# market_swap_txs_v3 =  pd.read_csv('./txs_data/v3/market_swap_txs.csv')\n",
    "# market_swap_send_txs_v3 =  pd.read_csv('./txs_data/v3/market_swap_send_txs.csv')\n",
    "\n",
    "# market_swap_txs_v4 =  pd.read_csv('./txs_data/v4/market_swap_txs.csv')\n",
    "# market_swap_send_txs_v4 =  pd.read_csv('./txs_data/v4/market_swap_send_txs.csv')\n",
    "\n",
    "# market_swap_txs_v5 =  pd.read_csv('./txs_data/v5/market_swap_txs.csv')\n",
    "# market_swap_send_txs_v5 =  pd.read_csv('./txs_data/v5/market_swap_send_txs.csv')\n",
    "\n",
    "# market_swap_txs_v6 =  pd.read_csv('./txs_data/v6/market_swap_txs.csv')\n",
    "# market_swap_send_txs_v6 =  pd.read_csv('./txs_data/v6/market_swap_send_txs.csv')\n",
    "\n",
    "# market_swap_txs_v7 =  pd.read_csv('./txs_data/v7/market_swap_txs.csv')\n",
    "# market_swap_send_txs_v7 =  pd.read_csv('./txs_data/v7/market_swap_send_txs.csv')\n",
    "\n",
    "\n",
    "exchange_rate_vote_txs_v1 =  pd.read_csv('./txs_data/v1/exchange_rate_vote_txs.csv')\n",
    "# exchange_rate_vote_txs_v2 =  pd.read_csv('./txs_data/v2/exchange_rate_vote_txs.csv')\n",
    "# exchange_rate_vote_txs_v3 =  pd.read_csv('./txs_data/v3/exchange_rate_vote_txs.csv')\n",
    "# exchange_rate_vote_txs_v4 =  pd.read_csv('./txs_data/v4/exchange_rate_vote_txs.csv')\n",
    "# exchange_rate_vote_txs_v5 =  pd.read_csv('./txs_data/v5/exchange_rate_vote_txs.csv')\n",
    "# exchange_rate_vote_txs_v6 =  pd.read_csv('./txs_data/v6/exchange_rate_vote_txs.csv')\n",
    "# exchange_rate_vote_txs_v7 =  pd.read_csv('./txs_data/v7/exchange_rate_vote_txs.csv')\n",
    "\n",
    "astroport_ust_luna_txs_v1 =  pd.read_csv('./astroport_txs_data/astroport_swap_txs.csv')\n"
   ],
   "metadata": {
    "collapsed": false,
    "pycharm": {
     "name": "#%%\n"
    }
   }
  },
  {
   "cell_type": "code",
   "execution_count": null,
   "outputs": [],
   "source": [
    "astroport_ust_luna_txs_v1.head(4)"
   ],
   "metadata": {
    "collapsed": false,
    "pycharm": {
     "name": "#%%\n"
    }
   }
  },
  {
   "cell_type": "code",
   "execution_count": null,
   "outputs": [],
   "source": [],
   "metadata": {
    "collapsed": false,
    "pycharm": {
     "name": "#%%\n"
    }
   }
  },
  {
   "cell_type": "code",
   "execution_count": 5,
   "metadata": {},
   "outputs": [
    {
     "data": {
      "text/html": [
       "<div>\n",
       "<style scoped>\n",
       "    .dataframe tbody tr th:only-of-type {\n",
       "        vertical-align: middle;\n",
       "    }\n",
       "\n",
       "    .dataframe tbody tr th {\n",
       "        vertical-align: top;\n",
       "    }\n",
       "\n",
       "    .dataframe thead th {\n",
       "        text-align: right;\n",
       "    }\n",
       "</style>\n",
       "<table border=\"1\" class=\"dataframe\">\n",
       "  <thead>\n",
       "    <tr style=\"text-align: right;\">\n",
       "      <th></th>\n",
       "      <th>TxHash</th>\n",
       "      <th>BlockHeight</th>\n",
       "      <th>UserAddress</th>\n",
       "      <th>offer_asset</th>\n",
       "      <th>offer_amount</th>\n",
       "      <th>ask_asset</th>\n",
       "      <th>return_amount</th>\n",
       "      <th>tax_amount</th>\n",
       "      <th>spread_amount</th>\n",
       "      <th>commission_amount</th>\n",
       "      <th>maker_fee_amount</th>\n",
       "      <th>belief_price</th>\n",
       "    </tr>\n",
       "  </thead>\n",
       "  <tbody>\n",
       "    <tr>\n",
       "      <th>0</th>\n",
       "      <td>06560117D2FC9C7029084E53A7FA266E736CCDEF32861D9A5265709CEA5CF988</td>\n",
       "      <td>7622693</td>\n",
       "      <td>terra173cavyl684vfy4al20r3pzldy0jdljq0ma7vzc</td>\n",
       "      <td>uusd</td>\n",
       "      <td>800000</td>\n",
       "      <td>uluna</td>\n",
       "      <td>314302982</td>\n",
       "      <td>0</td>\n",
       "      <td>121</td>\n",
       "      <td>945746</td>\n",
       "      <td>315217</td>\n",
       "      <td>0.003</td>\n",
       "    </tr>\n",
       "    <tr>\n",
       "      <th>1</th>\n",
       "      <td>3DAD7540BB34F419E79609F6FF9941D3B6BAEDA80D966CC8C86CD21B38625D33</td>\n",
       "      <td>7622693</td>\n",
       "      <td>terra1j8mqyr56hlja2yms5umv5mdqmkj047ynzldjer</td>\n",
       "      <td>uluna</td>\n",
       "      <td>408218305180</td>\n",
       "      <td>uusd</td>\n",
       "      <td>1033334691</td>\n",
       "      <td>0</td>\n",
       "      <td>518800</td>\n",
       "      <td>3109332</td>\n",
       "      <td>1036340</td>\n",
       "      <td>397.100</td>\n",
       "    </tr>\n",
       "    <tr>\n",
       "      <th>2</th>\n",
       "      <td>DA6932436A65136A4F2DB3EDC55431A75BB15AEA0339C35C20BF10CBBBE24435</td>\n",
       "      <td>7622692</td>\n",
       "      <td>terra1yf7t6ju6jcxs489g69ceplcrz8lv2245vmzz9a</td>\n",
       "      <td>uusd</td>\n",
       "      <td>400000000</td>\n",
       "      <td>uluna</td>\n",
       "      <td>156993571306</td>\n",
       "      <td>0</td>\n",
       "      <td>30407327</td>\n",
       "      <td>472397907</td>\n",
       "      <td>157450222</td>\n",
       "      <td>0.003</td>\n",
       "    </tr>\n",
       "    <tr>\n",
       "      <th>3</th>\n",
       "      <td>AC87CF4BD4F151192D0BACDA12A22EC50612253AB593A4770A9F8C99F11BCC54</td>\n",
       "      <td>7622691</td>\n",
       "      <td>terra1sp4t8y4hr324a6fpeyscheet09mkkzwzq0sha5</td>\n",
       "      <td>uusd</td>\n",
       "      <td>1000000000</td>\n",
       "      <td>uluna</td>\n",
       "      <td>392748942895</td>\n",
       "      <td>0</td>\n",
       "      <td>190265970</td>\n",
       "      <td>1181792205</td>\n",
       "      <td>393891341</td>\n",
       "      <td>0.003</td>\n",
       "    </tr>\n",
       "  </tbody>\n",
       "</table>\n",
       "</div>"
      ],
      "text/plain": [
       "                                                             TxHash  \\\n",
       "0  06560117D2FC9C7029084E53A7FA266E736CCDEF32861D9A5265709CEA5CF988   \n",
       "1  3DAD7540BB34F419E79609F6FF9941D3B6BAEDA80D966CC8C86CD21B38625D33   \n",
       "2  DA6932436A65136A4F2DB3EDC55431A75BB15AEA0339C35C20BF10CBBBE24435   \n",
       "3  AC87CF4BD4F151192D0BACDA12A22EC50612253AB593A4770A9F8C99F11BCC54   \n",
       "\n",
       "   BlockHeight                                   UserAddress offer_asset  \\\n",
       "0      7622693  terra173cavyl684vfy4al20r3pzldy0jdljq0ma7vzc        uusd   \n",
       "1      7622693  terra1j8mqyr56hlja2yms5umv5mdqmkj047ynzldjer       uluna   \n",
       "2      7622692  terra1yf7t6ju6jcxs489g69ceplcrz8lv2245vmzz9a        uusd   \n",
       "3      7622691  terra1sp4t8y4hr324a6fpeyscheet09mkkzwzq0sha5        uusd   \n",
       "\n",
       "   offer_amount ask_asset  return_amount  tax_amount  spread_amount  \\\n",
       "0        800000     uluna      314302982           0            121   \n",
       "1  408218305180      uusd     1033334691           0         518800   \n",
       "2     400000000     uluna   156993571306           0       30407327   \n",
       "3    1000000000     uluna   392748942895           0      190265970   \n",
       "\n",
       "   commission_amount  maker_fee_amount  belief_price  \n",
       "0             945746            315217         0.003  \n",
       "1            3109332           1036340       397.100  \n",
       "2          472397907         157450222         0.003  \n",
       "3         1181792205         393891341         0.003  "
      ]
     },
     "execution_count": 5,
     "metadata": {},
     "output_type": "execute_result"
    }
   ],
   "source": [
    "astroport_ust_luna_txs_v1.head(4)"
   ]
  },
  {
   "cell_type": "code",
   "execution_count": null,
   "metadata": {},
   "outputs": [],
   "source": []
  },
  {
   "cell_type": "code",
   "execution_count": null,
   "metadata": {
    "pycharm": {
     "name": "#%%\n"
    }
   },
   "outputs": [],
   "source": [
    "market_swap_txs_DF = market_swap_txs_v1\n",
    "market_swap_send_txs_DF = market_swap_send_txs_v1\n",
    "exchange_rate_vote_txs_DF = exchange_rate_vote_txs_v1\n",
    "\n",
    "\n",
    "# market_swap_txs_DF = pd.concat([market_swap_txs_v1, market_swap_txs_v2, market_swap_txs_v3, market_swap_txs_v4, market_swap_txs_v5, market_swap_txs_v6, market_swap_txs_v7])\n",
    "# market_swap_send_txs_DF = pd.concat([market_swap_send_txs_v1, market_swap_send_txs_v2, market_swap_send_txs_v3, market_swap_send_txs_v4, market_swap_send_txs_v5, market_swap_send_txs_v6, market_swap_send_txs_v7])\n",
    "# exchange_rate_vote_txs_DF = pd.concat([exchange_rate_vote_txs_v1, exchange_rate_vote_txs_v2, exchange_rate_vote_txs_v3, exchange_rate_vote_txs_v4, exchange_rate_vote_txs_v5, exchange_rate_vote_txs_v6, exchange_rate_vote_txs_v7])\n"
   ]
  },
  {
   "cell_type": "code",
   "execution_count": null,
   "metadata": {
    "pycharm": {
     "name": "#%%\n"
    }
   },
   "outputs": [],
   "source": [
    "market_swap_txs_DF.sort_values('BlockHeight', inplace=True)\n",
    "market_swap_send_txs_DF.sort_values('BlockHeight', inplace=True)\n",
    "exchange_rate_vote_txs_DF.sort_values('BlockHeight', inplace=True)"
   ]
  },
  {
   "cell_type": "code",
   "execution_count": null,
   "metadata": {
    "pycharm": {
     "name": "#%%\n"
    }
   },
   "outputs": [],
   "source": [
    "exchange_rate_vote_txs_DF = exchange_rate_vote_txs_DF[:1000]"
   ]
  },
  {
   "cell_type": "code",
   "execution_count": null,
   "metadata": {
    "pycharm": {
     "name": "#%%\n"
    }
   },
   "outputs": [],
   "source": [
    "# Reset Indexes\n",
    "exchange_rate_vote_txs_DF = exchange_rate_vote_txs_DF.reset_index()\n",
    "market_swap_send_txs_DF = market_swap_send_txs_DF.reset_index()\n",
    "market_swap_txs_DF = market_swap_txs_DF.reset_index()\n",
    "\n"
   ]
  },
  {
   "cell_type": "code",
   "execution_count": null,
   "metadata": {
    "pycharm": {
     "name": "#%%\n"
    }
   },
   "outputs": [],
   "source": [
    "exchange_rate_vote_txs_DF.head(4)"
   ]
  },
  {
   "cell_type": "code",
   "execution_count": null,
   "metadata": {
    "pycharm": {
     "name": "#%%\n"
    }
   },
   "outputs": [],
   "source": [
    "len(exchange_rate_vote_txs_DF.index)"
   ]
  },
  {
   "cell_type": "code",
   "execution_count": null,
   "metadata": {
    "pycharm": {
     "name": "#%%\n"
    }
   },
   "outputs": [],
   "source": [
    "def index_exchange_rates(column,denom):\n",
    "    words = column.split(\",\")\n",
    "    for word in words:\n",
    "        val = word[:len(word)-4]\n",
    "        label = word[len(word)-4:]\n",
    "        if label == denom:\n",
    "            return val\n",
    "    return 0\n",
    "\n",
    "def get_labels(column):\n",
    "    words = column.split(\",\")\n",
    "    labels = []\n",
    "    for word in words:\n",
    "        val = word[:len(word)-4]\n",
    "        label = word[len(word)-4:]\n",
    "        labels.append(label)\n",
    "    return labels\n",
    "\n"
   ]
  },
  {
   "cell_type": "code",
   "execution_count": null,
   "metadata": {
    "pycharm": {
     "name": "#%%\n"
    }
   },
   "outputs": [],
   "source": [
    "# list of all currencies\n",
    "labels = get_labels( exchange_rate_vote_txs_DF.loc[0][\"exchange_rates\"]  )\n",
    "\n",
    "# Index Exchange rate for all currencies\n",
    "for label in labels:\n",
    "    print(f\"Indexing for Label = {label}\")\n",
    "    exchange_rate_vote_txs_DF[label] = exchange_rate_vote_txs_DF.apply(lambda x: index_exchange_rates(x[\"exchange_rates\"],label), axis=1)\n",
    "\n",
    "\n"
   ]
  },
  {
   "cell_type": "code",
   "execution_count": null,
   "metadata": {
    "pycharm": {
     "name": "#%%\n"
    }
   },
   "outputs": [],
   "source": [
    "exchange_rate_vote_txs_DF.drop(['index','TxHash','salt','feeder','validator','exchange_rates'],axis=1,inplace=True)\n"
   ]
  },
  {
   "cell_type": "code",
   "execution_count": null,
   "metadata": {
    "pycharm": {
     "name": "#%%\n"
    }
   },
   "outputs": [],
   "source": [
    "exchange_rate_vote_txs_DF.head(4)"
   ]
  },
  {
   "cell_type": "code",
   "execution_count": null,
   "metadata": {
    "pycharm": {
     "name": "#%%\n"
    }
   },
   "outputs": [],
   "source": []
  },
  {
   "cell_type": "code",
   "execution_count": null,
   "metadata": {
    "pycharm": {
     "name": "#%%\n"
    }
   },
   "outputs": [],
   "source": []
  },
  {
   "cell_type": "code",
   "execution_count": null,
   "metadata": {
    "pycharm": {
     "name": "#%%\n"
    }
   },
   "outputs": [],
   "source": [
    "market_swap_txs_DF.head(4)"
   ]
  },
  {
   "cell_type": "code",
   "execution_count": null,
   "metadata": {
    "pycharm": {
     "name": "#%%\n"
    }
   },
   "outputs": [],
   "source": [
    "market_swap_txs_DF = market_swap_txs_DF.fillna(0)\n",
    "market_swap_txs_DF.drop(['index','TxHash','Sender','burner','minter','trader','recipient'],axis=1,inplace=True)\n",
    "\n",
    "\n"
   ]
  },
  {
   "cell_type": "code",
   "execution_count": null,
   "metadata": {
    "pycharm": {
     "name": "#%%\n"
    }
   },
   "outputs": [],
   "source": []
  },
  {
   "cell_type": "code",
   "execution_count": null,
   "metadata": {
    "pycharm": {
     "name": "#%%\n"
    }
   },
   "outputs": [],
   "source": []
  },
  {
   "cell_type": "code",
   "execution_count": null,
   "metadata": {
    "pycharm": {
     "name": "#%%\n"
    }
   },
   "outputs": [],
   "source": []
  },
  {
   "cell_type": "code",
   "execution_count": null,
   "metadata": {
    "pycharm": {
     "name": "#%%\n"
    }
   },
   "outputs": [],
   "source": []
  },
  {
   "cell_type": "code",
   "execution_count": null,
   "metadata": {
    "pycharm": {
     "name": "#%%\n"
    }
   },
   "outputs": [],
   "source": []
  },
  {
   "cell_type": "code",
   "execution_count": null,
   "metadata": {
    "pycharm": {
     "name": "#%%\n"
    }
   },
   "outputs": [],
   "source": []
  },
  {
   "cell_type": "code",
   "execution_count": null,
   "metadata": {
    "pycharm": {
     "name": "#%%\n"
    }
   },
   "outputs": [],
   "source": []
  },
  {
   "cell_type": "code",
   "execution_count": null,
   "metadata": {
    "pycharm": {
     "name": "#%%\n"
    }
   },
   "outputs": [],
   "source": []
  },
  {
   "cell_type": "code",
   "execution_count": null,
   "metadata": {
    "pycharm": {
     "name": "#%%\n"
    }
   },
   "outputs": [],
   "source": []
  },
  {
   "cell_type": "code",
   "execution_count": null,
   "metadata": {
    "pycharm": {
     "name": "#%%\n"
    }
   },
   "outputs": [],
   "source": []
  },
  {
   "cell_type": "code",
   "execution_count": null,
   "metadata": {
    "pycharm": {
     "name": "#%%\n"
    }
   },
   "outputs": [],
   "source": []
  },
  {
   "cell_type": "code",
   "execution_count": null,
   "metadata": {
    "pycharm": {
     "name": "#%%\n"
    }
   },
   "outputs": [],
   "source": []
  },
  {
   "cell_type": "code",
   "execution_count": null,
   "metadata": {
    "pycharm": {
     "name": "#%%\n"
    }
   },
   "outputs": [],
   "source": []
  },
  {
   "cell_type": "code",
   "execution_count": null,
   "metadata": {
    "pycharm": {
     "name": "#%%\n"
    }
   },
   "outputs": [],
   "source": []
  },
  {
   "cell_type": "code",
   "execution_count": null,
   "metadata": {
    "pycharm": {
     "name": "#%%\n"
    }
   },
   "outputs": [],
   "source": []
  },
  {
   "cell_type": "code",
   "execution_count": null,
   "metadata": {
    "pycharm": {
     "name": "#%%\n"
    }
   },
   "outputs": [],
   "source": []
  },
  {
   "cell_type": "code",
   "execution_count": null,
   "metadata": {
    "pycharm": {
     "name": "#%%\n"
    }
   },
   "outputs": [],
   "source": []
  },
  {
   "cell_type": "code",
   "execution_count": null,
   "metadata": {
    "pycharm": {
     "name": "#%%\n"
    }
   },
   "outputs": [],
   "source": []
  },
  {
   "cell_type": "code",
   "execution_count": null,
   "metadata": {
    "pycharm": {
     "name": "#%%\n"
    }
   },
   "outputs": [],
   "source": []
  },
  {
   "cell_type": "code",
   "execution_count": null,
   "metadata": {
    "pycharm": {
     "name": "#%%\n"
    }
   },
   "outputs": [],
   "source": []
  },
  {
   "cell_type": "code",
   "execution_count": null,
   "metadata": {
    "pycharm": {
     "name": "#%%\n"
    }
   },
   "outputs": [],
   "source": []
  },
  {
   "cell_type": "code",
   "execution_count": null,
   "metadata": {
    "pycharm": {
     "name": "#%%\n"
    }
   },
   "outputs": [],
   "source": []
  }
 ],
 "metadata": {
  "kernelspec": {
   "display_name": "Python 3 (ipykernel)",
   "language": "python",
   "name": "python3"
  },
  "language_info": {
   "codemirror_mode": {
    "name": "ipython",
    "version": 3
   },
   "file_extension": ".py",
   "mimetype": "text/x-python",
   "name": "python",
   "nbconvert_exporter": "python",
   "pygments_lexer": "ipython3",
   "version": "3.8.9"
  }
 },
 "nbformat": 4,
 "nbformat_minor": 1
}