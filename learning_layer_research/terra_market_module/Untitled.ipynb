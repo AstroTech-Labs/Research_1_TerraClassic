{
 "cells": [
  {
   "cell_type": "code",
   "execution_count": null,
   "id": "ba90cfbe",
   "metadata": {},
   "outputs": [],
   "source": []
  },
  {
   "cell_type": "code",
   "execution_count": 1,
   "id": "cdcaf8a8",
   "metadata": {},
   "outputs": [],
   "source": [
    "import numpy as np\n",
    "import pandas as pd\n",
    "import requests\n",
    "import matplotlib.pyplot as plt\n",
    "from tqdm.notebook import tqdm_notebook\n",
    "%matplotlib inline \n",
    "\n",
    "pd.set_option('display.max_columns', None)  \n",
    "pd.set_option('display.max_rows', None) \n",
    "pd.set_option('display.max_colwidth', None)\n",
    "pd.options.display.float_format = '{:,.7f}'.format"
   ]
  },
  {
   "cell_type": "code",
   "execution_count": null,
   "id": "0e0135ed",
   "metadata": {},
   "outputs": [],
   "source": []
  },
  {
   "cell_type": "code",
   "execution_count": 22,
   "id": "5e89cd12",
   "metadata": {},
   "outputs": [],
   "source": [
    "# market_swap_txs_DF = pd.read_csv(\"./cleaned_data/market_swap_txs_DF.csv\")\n",
    "aggregated_market_swap_txs_DF = pd.read_csv(\"./cleaned_data/aggregated_market_swap_txs_DF.csv\") \n",
    "astroport_ust_luna_txs_DF = pd.read_csv(\"./cleaned_data/astroport_ust_luna_txs_DF.csv\") \n",
    "exchange_rate_vote_txs_DF = pd.read_csv(\"./cleaned_data/exchange_rate_vote_txs_DF.csv\") \n",
    "aggregated_exchange_rate_vote_txs_DF = pd.read_csv(\"./cleaned_data/aggregated_exchange_rate_vote_txs_DF.csv\") "
   ]
  },
  {
   "cell_type": "code",
   "execution_count": 23,
   "id": "98fa0193",
   "metadata": {},
   "outputs": [
    {
     "data": {
      "text/html": [
       "<div>\n",
       "<style scoped>\n",
       "    .dataframe tbody tr th:only-of-type {\n",
       "        vertical-align: middle;\n",
       "    }\n",
       "\n",
       "    .dataframe tbody tr th {\n",
       "        vertical-align: top;\n",
       "    }\n",
       "\n",
       "    .dataframe thead th {\n",
       "        text-align: right;\n",
       "    }\n",
       "</style>\n",
       "<table border=\"1\" class=\"dataframe\">\n",
       "  <thead>\n",
       "    <tr style=\"text-align: right;\">\n",
       "      <th></th>\n",
       "      <th>Unnamed: 0</th>\n",
       "      <th>BlockHeight</th>\n",
       "      <th>ukrw::mean</th>\n",
       "      <th>usdr::mean</th>\n",
       "      <th>uusd::mean</th>\n",
       "    </tr>\n",
       "  </thead>\n",
       "  <tbody>\n",
       "    <tr>\n",
       "      <th>681522</th>\n",
       "      <td>681522</td>\n",
       "      <td>7639897</td>\n",
       "      <td>0.0000000</td>\n",
       "      <td>0.0000000</td>\n",
       "      <td>0.0000000</td>\n",
       "    </tr>\n",
       "    <tr>\n",
       "      <th>681523</th>\n",
       "      <td>681523</td>\n",
       "      <td>7639898</td>\n",
       "      <td>0.0000000</td>\n",
       "      <td>0.0000000</td>\n",
       "      <td>0.0000000</td>\n",
       "    </tr>\n",
       "    <tr>\n",
       "      <th>681524</th>\n",
       "      <td>681524</td>\n",
       "      <td>7639899</td>\n",
       "      <td>0.0000000</td>\n",
       "      <td>0.0000000</td>\n",
       "      <td>0.0000000</td>\n",
       "    </tr>\n",
       "  </tbody>\n",
       "</table>\n",
       "</div>"
      ],
      "text/plain": [
       "        Unnamed: 0  BlockHeight  ukrw::mean  usdr::mean  uusd::mean\n",
       "681522      681522      7639897   0.0000000   0.0000000   0.0000000\n",
       "681523      681523      7639898   0.0000000   0.0000000   0.0000000\n",
       "681524      681524      7639899   0.0000000   0.0000000   0.0000000"
      ]
     },
     "execution_count": 23,
     "metadata": {},
     "output_type": "execute_result"
    }
   ],
   "source": [
    "# market_swap_txs_DF.head(3)\n",
    "# aggregated_market_swap_txs_DF.tail(3)\n",
    "# astroport_ust_luna_txs_DF.tail(3)\n",
    "# exchange_rate_vote_txs_DF.tail(3)\n",
    "aggregated_exchange_rate_vote_txs_DF.tail(3)"
   ]
  },
  {
   "cell_type": "code",
   "execution_count": null,
   "id": "6f13cce8",
   "metadata": {},
   "outputs": [],
   "source": []
  },
  {
   "cell_type": "code",
   "execution_count": 24,
   "id": "a247c529",
   "metadata": {},
   "outputs": [
    {
     "name": "stdout",
     "output_type": "stream",
     "text": [
      "astroport_txs_DF || Start block = 7117990  End block = 7622720 Total Blocks = 504730\n",
      "aggregated_market_swap_txs_DF || Start block = 6960461.0  End block = 7610028.0 Total Blocks = 649567.0\n",
      "market_swap_txs_DF || Start block = 6960461  End block = 7639889 Total Blocks = 679428\n",
      "oracle_txs_DF || Start block = 6958375.0  End block = 7639899.0 Total Blocks = 681524.0\n",
      "\n",
      "Common Range, Start block = 7117990 End block = 7610028 | Total blocks = 492038\n"
     ]
    }
   ],
   "source": [
    "# Get Block heights for which data is available and block height range for which simulation is to be executed\n",
    "\n",
    "astroport_txs_DF_start_block = astroport_ust_luna_txs_DF.iloc[0][\"BlockHeight\"]\n",
    "astroport_txs_DF_end_block = astroport_ust_luna_txs_DF.iloc[len(astroport_ust_luna_txs_DF.index) - 1][\"BlockHeight\"]\n",
    "print(f\"astroport_txs_DF || Start block = {astroport_txs_DF_start_block}  End block = {astroport_txs_DF_end_block} \\\n",
    "Total Blocks = {astroport_txs_DF_end_block - astroport_txs_DF_start_block}\")\n",
    "\n",
    "aggregated_market_swap_txs_DF_start_block = aggregated_market_swap_txs_DF.iloc[0][\"BlockHeight\"]\n",
    "aggregated_market_swap_txs_DF_end_block = aggregated_market_swap_txs_DF.iloc[len(aggregated_market_swap_txs_DF.index) - 1][\"BlockHeight\"]\n",
    "print(f\"aggregated_market_swap_txs_DF || Start block = {aggregated_market_swap_txs_DF_start_block}  End block = {aggregated_market_swap_txs_DF_end_block} \\\n",
    "Total Blocks = {aggregated_market_swap_txs_DF_end_block - aggregated_market_swap_txs_DF_start_block}\")\n",
    "\n",
    "market_swap_txs_DF_start_block = market_swap_txs_DF.iloc[0][\"BlockHeight\"]\n",
    "market_swap_txs_DF_end_block = market_swap_txs_DF.iloc[len(market_swap_txs_DF.index) - 1][\"BlockHeight\"]\n",
    "print(f\"market_swap_txs_DF || Start block = {market_swap_txs_DF_start_block}  End block = {market_swap_txs_DF_end_block} \\\n",
    "Total Blocks = {market_swap_txs_DF_end_block - market_swap_txs_DF_start_block}\")\n",
    "\n",
    "oracle_txs_DF_start_block = aggregated_exchange_rate_vote_txs_DF.iloc[0][\"BlockHeight\"]\n",
    "oracle_txs_DF_end_block = aggregated_exchange_rate_vote_txs_DF.iloc[len(aggregated_exchange_rate_vote_txs_DF.index) - 1][\"BlockHeight\"]\n",
    "print(f\"oracle_txs_DF || Start block = {oracle_txs_DF_start_block}  End block = {oracle_txs_DF_end_block} \\\n",
    "Total Blocks = {oracle_txs_DF_end_block - oracle_txs_DF_start_block}\")\n",
    "\n",
    "START_BLOCK = int(max(astroport_txs_DF_start_block, max(market_swap_txs_DF_start_block, oracle_txs_DF_start_block)))\n",
    "START_BLOCK = int(max(START_BLOCK, aggregated_market_swap_txs_DF_start_block))\n",
    "END_BLOCK = int(min(astroport_txs_DF_end_block, min(market_swap_txs_DF_end_block, oracle_txs_DF_end_block)))\n",
    "END_BLOCK = int(min(END_BLOCK, aggregated_market_swap_txs_DF_end_block))\n",
    "print(f\"\\nCommon Range, Start block = {START_BLOCK} End block = {END_BLOCK} | Total blocks = {END_BLOCK - START_BLOCK}\")\n",
    "\n"
   ]
  },
  {
   "cell_type": "code",
   "execution_count": null,
   "id": "d96b3b5b",
   "metadata": {},
   "outputs": [],
   "source": []
  },
  {
   "cell_type": "code",
   "execution_count": null,
   "id": "f7216609",
   "metadata": {},
   "outputs": [],
   "source": []
  },
  {
   "cell_type": "code",
   "execution_count": null,
   "id": "122e4939",
   "metadata": {},
   "outputs": [],
   "source": []
  },
  {
   "cell_type": "code",
   "execution_count": null,
   "id": "ca32a23b",
   "metadata": {},
   "outputs": [],
   "source": []
  },
  {
   "cell_type": "code",
   "execution_count": null,
   "id": "afd421c2",
   "metadata": {},
   "outputs": [],
   "source": [
    "# Get DataFrames from pre-processed .csv files\n",
    "\n",
    "## Oracle prices dataset\n",
    "aggregated_exchange_rate_vote_txs_DF = pd.read_csv(\"./terra_classic_dataset/aggregated_exchange_rate_vote_txs_DF.csv\") \n",
    "\n",
    "\n"
   ]
  },
  {
   "cell_type": "code",
   "execution_count": null,
   "id": "fe26e274",
   "metadata": {},
   "outputs": [],
   "source": []
  }
 ],
 "metadata": {
  "kernelspec": {
   "display_name": "Python 3 (ipykernel)",
   "language": "python",
   "name": "python3"
  },
  "language_info": {
   "codemirror_mode": {
    "name": "ipython",
    "version": 3
   },
   "file_extension": ".py",
   "mimetype": "text/x-python",
   "name": "python",
   "nbconvert_exporter": "python",
   "pygments_lexer": "ipython3",
   "version": "3.8.9"
  }
 },
 "nbformat": 4,
 "nbformat_minor": 5
}
