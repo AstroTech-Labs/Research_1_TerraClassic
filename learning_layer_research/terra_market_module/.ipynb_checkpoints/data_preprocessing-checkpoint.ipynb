{
 "cells": [
  {
   "cell_type": "code",
   "execution_count": 4,
   "metadata": {
    "pycharm": {
     "is_executing": true,
     "name": "#%%\n"
    }
   },
   "outputs": [],
   "source": [
    "import numpy as np\n",
    "import pandas as pd\n",
    "import requests\n",
    "import matplotlib.pyplot as plt\n",
    "%matplotlib inline \n",
    "\n",
    "pd.set_option('display.max_columns', None)  \n",
    "pd.set_option('display.max_rows', None) \n",
    "pd.set_option('display.max_colwidth', None)\n",
    "pd.options.display.float_format = '{:,.3f}'.format"
   ]
  },
  {
   "cell_type": "code",
   "execution_count": null,
   "metadata": {
    "pycharm": {
     "is_executing": true,
     "name": "#%%\n"
    }
   },
   "outputs": [],
   "source": [
    "\n",
    "Market Module Params - \n",
    "\n",
    "type Params struct {\n",
    "\tBasePool           github_com_cosmos_cosmos_sdk_types.Dec \n",
    "\tPoolRecoveryPeriod uint64                                 \n",
    "\tMinStabilitySpread github_com_cosmos_cosmos_sdk_types.Dec \n",
    "}\n",
    "\n",
    "\n",
    "// Default parameter values\n",
    "var (\n",
    "\tDefaultBasePool           = sdk.NewDec(1000000 * core.MicroUnit) // 1000,000sdr = 1000,000,000,000usdr\n",
    "\tDefaultPoolRecoveryPeriod = core.BlocksPerDay                    // 14,400\n",
    "\tDefaultMinStabilitySpread = sdk.NewDecWithPrec(2, 2)             // 2%\n",
    ")\n",
    "\n",
    "\n",
    "\n",
    "\n",
    "\n",
    "\n",
    "\n",
    "\n",
    "\n",
    "\n"
   ]
  },
  {
   "cell_type": "code",
   "execution_count": null,
   "metadata": {
    "pycharm": {
     "is_executing": true,
     "name": "#%%\n"
    }
   },
   "outputs": [],
   "source": [
    "market_swap_txs_v1 =  pd.read_csv('./module_txs_data/v1/market_swap_txs.csv')\n",
    "market_swap_send_txs_v1 =  pd.read_csv('./module_txs_data/v1/market_swap_send_txs.csv')\n",
    "\n",
    "# market_swap_txs_v2 =  pd.read_csv('./txs_data/v2/market_swap_txs.csv')\n",
    "# market_swap_send_txs_v2 =  pd.read_csv('./txs_data/v2/market_swap_send_txs.csv')\n",
    "\n",
    "# market_swap_txs_v3 =  pd.read_csv('./txs_data/v3/market_swap_txs.csv')\n",
    "# market_swap_send_txs_v3 =  pd.read_csv('./txs_data/v3/market_swap_send_txs.csv')\n",
    "\n",
    "# market_swap_txs_v4 =  pd.read_csv('./txs_data/v4/market_swap_txs.csv')\n",
    "# market_swap_send_txs_v4 =  pd.read_csv('./txs_data/v4/market_swap_send_txs.csv')\n",
    "\n",
    "# market_swap_txs_v5 =  pd.read_csv('./txs_data/v5/market_swap_txs.csv')\n",
    "# market_swap_send_txs_v5 =  pd.read_csv('./txs_data/v5/market_swap_send_txs.csv')\n",
    "\n",
    "# market_swap_txs_v6 =  pd.read_csv('./txs_data/v6/market_swap_txs.csv')\n",
    "# market_swap_send_txs_v6 =  pd.read_csv('./txs_data/v6/market_swap_send_txs.csv')\n",
    "\n",
    "# market_swap_txs_v7 =  pd.read_csv('./txs_data/v7/market_swap_txs.csv')\n",
    "# market_swap_send_txs_v7 =  pd.read_csv('./txs_data/v7/market_swap_send_txs.csv')\n",
    "\n",
    "\n",
    "exchange_rate_vote_txs_v1 =  pd.read_csv('./module_txs_data/v1/exchange_rate_vote_txs.csv')\n",
    "# exchange_rate_vote_txs_v2 =  pd.read_csv('./txs_data/v2/exchange_rate_vote_txs.csv')\n",
    "# exchange_rate_vote_txs_v3 =  pd.read_csv('./txs_data/v3/exchange_rate_vote_txs.csv')\n",
    "# exchange_rate_vote_txs_v4 =  pd.read_csv('./txs_data/v4/exchange_rate_vote_txs.csv')\n",
    "# exchange_rate_vote_txs_v5 =  pd.read_csv('./txs_data/v5/exchange_rate_vote_txs.csv')\n",
    "# exchange_rate_vote_txs_v6 =  pd.read_csv('./txs_data/v6/exchange_rate_vote_txs.csv')\n",
    "# exchange_rate_vote_txs_v7 =  pd.read_csv('./txs_data/v7/exchange_rate_vote_txs.csv')\n",
    "\n",
    "astroport_ust_luna_txs_v1 =  pd.read_csv('./astroport_txs_data/astroport_swap_txs.csv')\n"
   ]
  },
  {
   "cell_type": "code",
   "execution_count": null,
   "metadata": {
    "pycharm": {
     "is_executing": true,
     "name": "#%%\n"
    }
   },
   "outputs": [],
   "source": []
  },
  {
   "cell_type": "code",
   "execution_count": null,
   "metadata": {
    "pycharm": {
     "is_executing": true,
     "name": "#%%\n"
    }
   },
   "outputs": [],
   "source": [
    "market_swap_txs_DF.sort_values('BlockHeight', inplace=True)"
   ]
  },
  {
   "cell_type": "code",
   "execution_count": null,
   "metadata": {
    "pycharm": {
     "is_executing": true,
     "name": "#%%\n"
    }
   },
   "outputs": [],
   "source": []
  },
  {
   "cell_type": "code",
   "execution_count": null,
   "metadata": {
    "pycharm": {
     "is_executing": true,
     "name": "#%%\n"
    }
   },
   "outputs": [],
   "source": [
    "# MERGE IN DFs\n",
    "market_swap_txs_DF = market_swap_txs_v1\n",
    "market_swap_send_txs_DF = market_swap_send_txs_v1\n",
    "exchange_rate_vote_txs_DF = exchange_rate_vote_txs_v1\n",
    "astroport_ust_luna_txs_DF = astroport_ust_luna_txs_v1\n",
    "\n",
    "# SORT DFs\n",
    "market_swap_txs_DF.drop_duplicates(subset=[\"TxHash\"], inplace=True)\n",
    "market_swap_txs_DF.sort_values('BlockHeight', inplace=True)\n",
    "\n",
    "market_swap_send_txs_DF.drop_duplicates(subset=[\"TxHash\"], inplace=True)\n",
    "market_swap_send_txs_DF.sort_values('BlockHeight', inplace=True)\n",
    "\n",
    "exchange_rate_vote_txs_DF.drop_duplicates(subset=[\"TxHash\"], inplace=True)\n",
    "exchange_rate_vote_txs_DF.sort_values('BlockHeight', inplace=True)\n",
    "\n",
    "astroport_ust_luna_txs_DF.drop_duplicates(subset=[\"TxHash\"], inplace=True)\n",
    "astroport_ust_luna_txs_DF.sort_values('BlockHeight', inplace=True)\n"
   ]
  },
  {
   "cell_type": "code",
   "execution_count": null,
   "metadata": {
    "pycharm": {
     "is_executing": true,
     "name": "#%%\n"
    }
   },
   "outputs": [],
   "source": []
  },
  {
   "cell_type": "code",
   "execution_count": null,
   "metadata": {
    "pycharm": {
     "is_executing": true,
     "name": "#%%\n"
    }
   },
   "outputs": [],
   "source": [
    "# ASTROPORT :: SWAPS DATA CLEAN-UP\n",
    "\n",
    "def calc_price_luna_ust(x):\n",
    "    if x[\"offer_asset\"] == \"uluna\" and int(x[\"return_amount\"]) != 0 :\n",
    "        return int(x[\"offer_amount\"]) / int(x[\"return_amount\"] )\n",
    "    elif int(x[\"offer_amount\"]) != 0 :\n",
    "        return int(x[\"return_amount\"]) / int(x[\"offer_amount\"] )\n",
    "    else:\n",
    "        return 0\n",
    "\n",
    "    \n",
    "def calc_price_ust_luna(x):\n",
    "    if x[\"offer_asset\"] == \"uusd\" and int(x[\"return_amount\"]) != 0 :\n",
    "        return int(x[\"offer_amount\"]) / int(x[\"return_amount\"] )\n",
    "    elif int(x[\"offer_amount\"]) != 0 :\n",
    "        return int(x[\"return_amount\"]) / int(x[\"offer_amount\"] )\n",
    "    else:\n",
    "        return 0\n",
    "    \n",
    "\n",
    "astroport_ust_luna_txs_DF.drop(['TxHash','UserAddress','tax_amount','commission_amount','maker_fee_amount'],axis=1,inplace=True)\n",
    "\n",
    "astroport_ust_luna_txs_DF[\"Price (luna/ust)\"] = astroport_ust_luna_txs_DF.apply(lambda x: calc_price_luna_ust(x), axis=1)\n",
    "astroport_ust_luna_txs_DF[\"Price (ust/luna)\"] = astroport_ust_luna_txs_DF.apply(lambda x: calc_price_ust_luna(x), axis=1)\n",
    "\n"
   ]
  },
  {
   "cell_type": "code",
   "execution_count": null,
   "metadata": {
    "pycharm": {
     "is_executing": true,
     "name": "#%%\n"
    }
   },
   "outputs": [],
   "source": [
    "\n"
   ]
  },
  {
   "cell_type": "code",
   "execution_count": null,
   "metadata": {
    "pycharm": {
     "is_executing": true,
     "name": "#%%\n"
    }
   },
   "outputs": [],
   "source": [
    "\n",
    "\n"
   ]
  },
  {
   "cell_type": "code",
   "execution_count": null,
   "metadata": {
    "pycharm": {
     "is_executing": true,
     "name": "#%%\n"
    }
   },
   "outputs": [],
   "source": [
    "astroport_ust_luna_txs_DF.head(40)"
   ]
  },
  {
   "cell_type": "code",
   "execution_count": null,
   "metadata": {
    "pycharm": {
     "is_executing": true,
     "name": "#%%\n"
    }
   },
   "outputs": [],
   "source": [
    "astroport_ust_luna_txs_v1"
   ]
  },
  {
   "cell_type": "code",
   "execution_count": null,
   "metadata": {
    "pycharm": {
     "is_executing": true,
     "name": "#%%\n"
    }
   },
   "outputs": [],
   "source": []
  },
  {
   "cell_type": "code",
   "execution_count": null,
   "metadata": {
    "pycharm": {
     "is_executing": true,
     "name": "#%%\n"
    }
   },
   "outputs": [],
   "source": [
    "astroport_ust_luna_txs_DF"
   ]
  },
  {
   "cell_type": "code",
   "execution_count": null,
   "metadata": {
    "pycharm": {
     "is_executing": true,
     "name": "#%%\n"
    }
   },
   "outputs": [],
   "source": []
  },
  {
   "cell_type": "code",
   "execution_count": null,
   "metadata": {
    "pycharm": {
     "is_executing": true,
     "name": "#%%\n"
    }
   },
   "outputs": [],
   "source": []
  },
  {
   "cell_type": "code",
   "execution_count": null,
   "metadata": {
    "pycharm": {
     "is_executing": true,
     "name": "#%%\n"
    }
   },
   "outputs": [],
   "source": []
  },
  {
   "cell_type": "code",
   "execution_count": null,
   "metadata": {
    "pycharm": {
     "is_executing": true,
     "name": "#%%\n"
    }
   },
   "outputs": [],
   "source": []
  },
  {
   "cell_type": "code",
   "execution_count": null,
   "metadata": {
    "pycharm": {
     "is_executing": true,
     "name": "#%%\n"
    }
   },
   "outputs": [],
   "source": []
  },
  {
   "cell_type": "code",
   "execution_count": null,
   "metadata": {
    "pycharm": {
     "is_executing": true,
     "name": "#%%\n"
    }
   },
   "outputs": [],
   "source": []
  },
  {
   "cell_type": "code",
   "execution_count": null,
   "metadata": {
    "pycharm": {
     "is_executing": true,
     "name": "#%%\n"
    }
   },
   "outputs": [],
   "source": []
  },
  {
   "cell_type": "code",
   "execution_count": null,
   "metadata": {
    "pycharm": {
     "is_executing": true,
     "name": "#%%\n"
    }
   },
   "outputs": [],
   "source": []
  },
  {
   "cell_type": "code",
   "execution_count": null,
   "metadata": {
    "pycharm": {
     "is_executing": true,
     "name": "#%%\n"
    }
   },
   "outputs": [],
   "source": [
    "astroport_ust_luna_txs_v1.head(4)"
   ]
  },
  {
   "cell_type": "code",
   "execution_count": null,
   "metadata": {
    "pycharm": {
     "is_executing": true,
     "name": "#%%\n"
    }
   },
   "outputs": [],
   "source": []
  },
  {
   "cell_type": "code",
   "execution_count": null,
   "metadata": {
    "pycharm": {
     "is_executing": true,
     "name": "#%%\n"
    }
   },
   "outputs": [],
   "source": [
    "\n",
    "\n",
    "# market_swap_txs_DF = pd.concat([market_swap_txs_v1, market_swap_txs_v2, market_swap_txs_v3, market_swap_txs_v4, market_swap_txs_v5, market_swap_txs_v6, market_swap_txs_v7])\n",
    "# market_swap_send_txs_DF = pd.concat([market_swap_send_txs_v1, market_swap_send_txs_v2, market_swap_send_txs_v3, market_swap_send_txs_v4, market_swap_send_txs_v5, market_swap_send_txs_v6, market_swap_send_txs_v7])\n",
    "# exchange_rate_vote_txs_DF = pd.concat([exchange_rate_vote_txs_v1, exchange_rate_vote_txs_v2, exchange_rate_vote_txs_v3, exchange_rate_vote_txs_v4, exchange_rate_vote_txs_v5, exchange_rate_vote_txs_v6, exchange_rate_vote_txs_v7])\n"
   ]
  },
  {
   "cell_type": "code",
   "execution_count": null,
   "metadata": {
    "pycharm": {
     "is_executing": true,
     "name": "#%%\n"
    }
   },
   "outputs": [],
   "source": [
    "market_swap_txs_DF.sort_values('BlockHeight', inplace=True)\n",
    "market_swap_send_txs_DF.sort_values('BlockHeight', inplace=True)\n",
    "exchange_rate_vote_txs_DF.sort_values('BlockHeight', inplace=True)"
   ]
  },
  {
   "cell_type": "code",
   "execution_count": null,
   "metadata": {
    "pycharm": {
     "is_executing": true,
     "name": "#%%\n"
    }
   },
   "outputs": [],
   "source": [
    "exchange_rate_vote_txs_DF = exchange_rate_vote_txs_DF[:1000]"
   ]
  },
  {
   "cell_type": "code",
   "execution_count": null,
   "metadata": {
    "pycharm": {
     "is_executing": true,
     "name": "#%%\n"
    }
   },
   "outputs": [],
   "source": [
    "# Reset Indexes\n",
    "exchange_rate_vote_txs_DF = exchange_rate_vote_txs_DF.reset_index()\n",
    "market_swap_send_txs_DF = market_swap_send_txs_DF.reset_index()\n",
    "market_swap_txs_DF = market_swap_txs_DF.reset_index()\n",
    "\n"
   ]
  },
  {
   "cell_type": "code",
   "execution_count": null,
   "metadata": {
    "pycharm": {
     "is_executing": true,
     "name": "#%%\n"
    }
   },
   "outputs": [],
   "source": [
    "exchange_rate_vote_txs_DF.head(4)"
   ]
  },
  {
   "cell_type": "code",
   "execution_count": null,
   "metadata": {
    "pycharm": {
     "is_executing": true,
     "name": "#%%\n"
    }
   },
   "outputs": [],
   "source": [
    "len(exchange_rate_vote_txs_DF.index)"
   ]
  },
  {
   "cell_type": "code",
   "execution_count": null,
   "metadata": {
    "pycharm": {
     "is_executing": true,
     "name": "#%%\n"
    }
   },
   "outputs": [],
   "source": [
    "def index_exchange_rates(column,denom):\n",
    "    words = column.split(\",\")\n",
    "    for word in words:\n",
    "        val = word[:len(word)-4]\n",
    "        label = word[len(word)-4:]\n",
    "        if label == denom:\n",
    "            return val\n",
    "    return 0\n",
    "\n",
    "def get_labels(column):\n",
    "    words = column.split(\",\")\n",
    "    labels = []\n",
    "    for word in words:\n",
    "        val = word[:len(word)-4]\n",
    "        label = word[len(word)-4:]\n",
    "        labels.append(label)\n",
    "    return labels\n",
    "\n"
   ]
  },
  {
   "cell_type": "code",
   "execution_count": null,
   "metadata": {
    "pycharm": {
     "is_executing": true,
     "name": "#%%\n"
    }
   },
   "outputs": [],
   "source": [
    "# list of all currencies\n",
    "labels = get_labels( exchange_rate_vote_txs_DF.loc[0][\"exchange_rates\"]  )\n",
    "\n",
    "# Index Exchange rate for all currencies\n",
    "for label in labels:\n",
    "    print(f\"Indexing for Label = {label}\")\n",
    "    exchange_rate_vote_txs_DF[label] = exchange_rate_vote_txs_DF.apply(lambda x: index_exchange_rates(x[\"exchange_rates\"],label), axis=1)\n",
    "\n",
    "\n"
   ]
  },
  {
   "cell_type": "code",
   "execution_count": null,
   "metadata": {
    "pycharm": {
     "is_executing": true,
     "name": "#%%\n"
    }
   },
   "outputs": [],
   "source": [
    "exchange_rate_vote_txs_DF.drop(['index','TxHash','salt','feeder','validator','exchange_rates'],axis=1,inplace=True)\n"
   ]
  },
  {
   "cell_type": "code",
   "execution_count": null,
   "metadata": {
    "pycharm": {
     "is_executing": true,
     "name": "#%%\n"
    }
   },
   "outputs": [],
   "source": [
    "exchange_rate_vote_txs_DF.head(4)"
   ]
  },
  {
   "cell_type": "code",
   "execution_count": null,
   "metadata": {
    "pycharm": {
     "is_executing": true,
     "name": "#%%\n"
    }
   },
   "outputs": [],
   "source": []
  },
  {
   "cell_type": "code",
   "execution_count": null,
   "metadata": {
    "pycharm": {
     "is_executing": true,
     "name": "#%%\n"
    }
   },
   "outputs": [],
   "source": []
  },
  {
   "cell_type": "code",
   "execution_count": null,
   "metadata": {
    "pycharm": {
     "is_executing": true,
     "name": "#%%\n"
    }
   },
   "outputs": [],
   "source": [
    "market_swap_txs_DF.head(4)"
   ]
  },
  {
   "cell_type": "code",
   "execution_count": null,
   "metadata": {
    "pycharm": {
     "is_executing": true,
     "name": "#%%\n"
    }
   },
   "outputs": [],
   "source": [
    "market_swap_txs_DF = market_swap_txs_DF.fillna(0)\n",
    "market_swap_txs_DF.drop(['index','TxHash','Sender','burner','minter','trader','recipient'],axis=1,inplace=True)\n",
    "\n",
    "\n"
   ]
  },
  {
   "cell_type": "code",
   "execution_count": null,
   "metadata": {
    "pycharm": {
     "is_executing": true,
     "name": "#%%\n"
    }
   },
   "outputs": [],
   "source": []
  },
  {
   "cell_type": "code",
   "execution_count": null,
   "metadata": {
    "pycharm": {
     "is_executing": true,
     "name": "#%%\n"
    }
   },
   "outputs": [],
   "source": []
  },
  {
   "cell_type": "code",
   "execution_count": null,
   "metadata": {
    "pycharm": {
     "is_executing": true,
     "name": "#%%\n"
    }
   },
   "outputs": [],
   "source": []
  },
  {
   "cell_type": "code",
   "execution_count": null,
   "metadata": {
    "pycharm": {
     "is_executing": true,
     "name": "#%%\n"
    }
   },
   "outputs": [],
   "source": []
  },
  {
   "cell_type": "code",
   "execution_count": null,
   "metadata": {
    "pycharm": {
     "is_executing": true,
     "name": "#%%\n"
    }
   },
   "outputs": [],
   "source": [
    "\n",
    "# EndBlocker is called at the end of every block\n",
    "def marketModuleEndBlock(ctx, keeper):\n",
    "    # Replenishes each pools towards equilibrium\n",
    "    keeper.ReplenishPools(ctx)\n",
    "    \n",
    "\n",
    "\n",
    "\n",
    "# Replenishes each pools towards equilibrium\n",
    "def fn ReplenishPools(keeper, ctx):\n",
    "    # Get current pool delta\n",
    "    poolDelta = keeper.GetTerraPoolDelta(ctx)\n",
    "    # Get current Pool Recovery period\n",
    "    poolRecoveryPeriod := keeper.PoolRecoveryPeriod(ctx)\n",
    "    # Calculate Pool Regression Amount\n",
    "    poolRegressionAmt := poolDelta.QuoInt64(poolRecoveryPeriod)\n",
    "    # Replenish terra pool towards base pool regressionAmt cannot make delta zero\n",
    "    poolDelta = poolDelta.Sub(poolRegressionAmt)\n",
    "    keeper.SetTerraPoolDelta(ctx, poolDelta)\n",
    "\n",
    "\n",
    "\n",
    "\n",
    "\n",
    "\n",
    "\n",
    "\n",
    "\n",
    "\n",
    "\n",
    "\n",
    "\n",
    "\n",
    "\n",
    "\n",
    "\n",
    "\n",
    "\n",
    "\n",
    "\n",
    "\n",
    "\n",
    "\n"
   ]
  },
  {
   "cell_type": "code",
   "execution_count": null,
   "metadata": {
    "pycharm": {
     "is_executing": true,
     "name": "#%%\n"
    }
   },
   "outputs": [],
   "source": [
    "market_swap_txs_DF.sort_values('BlockHeight', inplace=True)\n",
    "market_swap_send_txs_DF.sort_values('BlockHeight', inplace=True)\n",
    "exchange_rate_vote_txs_DF.sort_values('BlockHeight', inplace=True)"
   ]
  },
  {
   "cell_type": "code",
   "execution_count": null,
   "metadata": {
    "pycharm": {
     "is_executing": true,
     "name": "#%%\n"
    }
   },
   "outputs": [],
   "source": [
    "exchange_rate_vote_txs_DF = exchange_rate_vote_txs_DF[:1000]"
   ]
  },
  {
   "cell_type": "code",
   "execution_count": null,
   "metadata": {
    "pycharm": {
     "is_executing": true,
     "name": "#%%\n"
    }
   },
   "outputs": [],
   "source": [
    "# Reset Indexes\n",
    "exchange_rate_vote_txs_DF = exchange_rate_vote_txs_DF.reset_index()\n",
    "market_swap_send_txs_DF = market_swap_send_txs_DF.reset_index()\n",
    "market_swap_txs_DF = market_swap_txs_DF.reset_index()\n",
    "\n"
   ]
  },
  {
   "cell_type": "code",
   "execution_count": null,
   "metadata": {
    "pycharm": {
     "is_executing": true,
     "name": "#%%\n"
    }
   },
   "outputs": [],
   "source": [
    "exchange_rate_vote_txs_DF.head(4)"
   ]
  },
  {
   "cell_type": "code",
   "execution_count": null,
   "metadata": {
    "pycharm": {
     "is_executing": true,
     "name": "#%%\n"
    }
   },
   "outputs": [],
   "source": [
    "len(exchange_rate_vote_txs_DF.index)"
   ]
  },
  {
   "cell_type": "code",
   "execution_count": null,
   "metadata": {
    "pycharm": {
     "is_executing": true,
     "name": "#%%\n"
    }
   },
   "outputs": [],
   "source": [
    "def index_exchange_rates(column,denom):\n",
    "    words = column.split(\",\")\n",
    "    for word in words:\n",
    "        val = word[:len(word)-4]\n",
    "        label = word[len(word)-4:]\n",
    "        if label == denom:\n",
    "            return val\n",
    "    return 0\n",
    "\n",
    "def get_labels(column):\n",
    "    words = column.split(\",\")\n",
    "    labels = []\n",
    "    for word in words:\n",
    "        val = word[:len(word)-4]\n",
    "        label = word[len(word)-4:]\n",
    "        labels.append(label)\n",
    "    return labels\n",
    "\n"
   ]
  },
  {
   "cell_type": "code",
   "execution_count": null,
   "metadata": {
    "pycharm": {
     "is_executing": true,
     "name": "#%%\n"
    }
   },
   "outputs": [],
   "source": [
    "# list of all currencies\n",
    "labels = get_labels( exchange_rate_vote_txs_DF.loc[0][\"exchange_rates\"]  )\n",
    "\n",
    "# Index Exchange rate for all currencies\n",
    "for label in labels:\n",
    "    print(f\"Indexing for Label = {label}\")\n",
    "    exchange_rate_vote_txs_DF[label] = exchange_rate_vote_txs_DF.apply(lambda x: index_exchange_rates(x[\"exchange_rates\"],label), axis=1)\n",
    "\n",
    "\n"
   ]
  },
  {
   "cell_type": "code",
   "execution_count": null,
   "metadata": {
    "pycharm": {
     "is_executing": true,
     "name": "#%%\n"
    }
   },
   "outputs": [],
   "source": [
    "exchange_rate_vote_txs_DF.drop(['index','TxHash','salt','feeder','validator','exchange_rates'],axis=1,inplace=True)\n"
   ]
  },
  {
   "cell_type": "code",
   "execution_count": null,
   "metadata": {
    "pycharm": {
     "is_executing": true,
     "name": "#%%\n"
    }
   },
   "outputs": [],
   "source": [
    "exchange_rate_vote_txs_DF.head(4)"
   ]
  },
  {
   "cell_type": "code",
   "execution_count": null,
   "metadata": {
    "pycharm": {
     "is_executing": true,
     "name": "#%%\n"
    }
   },
   "outputs": [],
   "source": []
  },
  {
   "cell_type": "code",
   "execution_count": null,
   "metadata": {
    "pycharm": {
     "is_executing": true,
     "name": "#%%\n"
    }
   },
   "outputs": [],
   "source": []
  },
  {
   "cell_type": "code",
   "execution_count": null,
   "metadata": {
    "pycharm": {
     "is_executing": true,
     "name": "#%%\n"
    }
   },
   "outputs": [],
   "source": [
    "market_swap_txs_DF.head(4)"
   ]
  },
  {
   "cell_type": "code",
   "execution_count": null,
   "metadata": {
    "pycharm": {
     "is_executing": true,
     "name": "#%%\n"
    }
   },
   "outputs": [],
   "source": [
    "market_swap_txs_DF = market_swap_txs_DF.fillna(0)\n",
    "market_swap_txs_DF.drop(['index','TxHash','Sender','burner','minter','trader','recipient'],axis=1,inplace=True)\n",
    "\n",
    "\n"
   ]
  },
  {
   "cell_type": "code",
   "execution_count": null,
   "metadata": {
    "pycharm": {
     "is_executing": true,
     "name": "#%%\n"
    }
   },
   "outputs": [],
   "source": []
  },
  {
   "cell_type": "code",
   "execution_count": null,
   "metadata": {
    "pycharm": {
     "is_executing": true,
     "name": "#%%\n"
    }
   },
   "outputs": [],
   "source": []
  },
  {
   "cell_type": "code",
   "execution_count": null,
   "metadata": {
    "pycharm": {
     "is_executing": true,
     "name": "#%%\n"
    }
   },
   "outputs": [],
   "source": []
  },
  {
   "cell_type": "markdown",
   "metadata": {
    "pycharm": {
     "is_executing": true,
     "name": "#%%\n"
    }
   },
   "source": [
    "### TERRA Market Module\n",
    "\n",
    "\n",
    "##### Parameters\n",
    "\n",
    "The market module contains the following parameters:\n",
    "\n",
    "| Key                 | Type         | Example                |\n",
    "|---------------------|--------------|------------------------|\n",
    "| basepool            | string (dec) | \"250000000000.0\"       |\n",
    "| minstabilityspread  | string (dec) | \"0.010000000000000000\"                                           |\n",
    "| poolrecoveryperiod  | string (int) | \"14400\"                |\n",
    "\n",
    "\n",
    "#### State\n",
    "\n",
    "##### TerraPoolDelta\n",
    "\n",
    "Market module provides swap functionality based on constant product mechanism. Terra pool have to keep its delta to track the currency demands for swap spread. Luna pool can be retrived from Terra pool delta with following equation:\n",
    "\n",
    "```go\n",
    "TerraPool := BasePool + delta\n",
    "LunaPool := (BasePool * BasePool) / TerraPool\n",
    "```\n",
    "\n",
    "> Note that the all pool holds decimal unit of `usdr` amount, so delta is also `usdr` unit.\n",
    "\n",
    "- TerraPoolDelta: `0x01 -> amino(TerraPoolDelta)`\n",
    "\n",
    "```go\n",
    "type TerraPoolDelta sdk.Dec // the gap between the TerraPool and the BasePool\n",
    "```\n",
    "\n",
    "\n",
    "#### Messages\n",
    "\n",
    "##### MsgSwap\n",
    "\n",
    "A MsgSwap transaction denotes the Trader's intent to swap their balance of `OfferCoin` for new denomination `AskDenom`, for both Terra<>Terra and Terra<>Luna swaps.\n",
    "\n",
    "```go\n",
    "type MsgSwap struct {\n",
    "\tTrader    sdk.AccAddress\n",
    "\tOfferCoin sdk.Coin\n",
    "\tAskDenom  string\n",
    "}\n",
    "```\n",
    "\n",
    "#### MsgSwapSend\n",
    "A MsgSendSwap first performs a swap of OfferCoin into AskDenom and the sends the resulting coins to ToAddress. Tax is charged normally, as if the sender were issuing a MsgSend with the resutling coins of the swap.\n",
    "\n",
    "\n",
    "```go\n",
    "type MsgSwapSend struct {\n",
    "\tFromAddress sdk.AccAddress\n",
    "\tToAddress   sdk.AccAddress \n",
    "\tOfferCoin   sdk.Coin\n",
    "\tAskDenom    string\n",
    "}\n",
    "```\n",
    "\n",
    "#### Functions\n",
    "\n",
    "##### ComputeSwap\n",
    "\n",
    "```go\n",
    "func (k Keeper) ComputeSwap(ctx sdk.Context, offerCoin sdk.Coin, askDenom string) (retDecCoin sdk.DecCoin, spread sdk.Dec, err error)\n",
    "```\n",
    "\n",
    "This function detects the swap type from the offer and ask denominations and returns:\n",
    "\n",
    "1. The amount of asked coins that should be returned for a given `offerCoin`. This is achieved by first spot-converting `offerCoin` to µSDR and then from µSDR to the desired `askDenom` with the proper exchange rate reported from by the Oracle.\n",
    "\n",
    "2. The spread % that should be taken as a swap fee given the swap type. Terra<>Terra swaps simply have the Tobin Tax spread fee. Terra<>Luna spreads are the greater of `MinSpread` and spread from Constant Product pricing.\n",
    "\n",
    "If the offerCoin's denomination is the same as `askDenom`, this will raise ErrRecursiveSwap.\n",
    "\n",
    "##### ApplySwapToPool\n",
    "\n",
    "```go\n",
    "func (k Keeper) ApplySwapToPool(ctx sdk.Context, offerCoin sdk.Coin, askCoin sdk.DecCoin) error\n",
    "```\n",
    "\n",
    "This function is called during the swap to update the blockchain's measure of , `TerraPoolDelta`, when the balances of the Terra and Luna liquidity pools have changed.\n",
    "\n",
    "Terra currencies share the same liquidity pool, so `TerraPoolDelta` remains unaltered during Terra<>Terra swaps.\n",
    "\n",
    "For Terra<>Luna swaps, the relative sizes of the pools will be different after the swap, and `delta` will be updated with the following formulas:\n",
    "\n",
    "For Terra to Luna, `delta = delta + offerAmount`\n",
    "For Luna to Terra, `delta = delta - askAmount`\n",
    "\n",
    "\n",
    "\n",
    "\n",
    "#### End Block\n",
    "\n",
    "##### Replenish Pool\n",
    "At each `EndBlock`, the value of `TerraPoolDelta` is decreased depending on `PoolRecoveryPeriod` of parameter.\n",
    "\n",
    "This allows the network to sharply increase spread fees in during acute price fluctuations, and automatically return the spread to normal after some time when the price change is long term.\n",
    "\n",
    "```go\n",
    "func (k Keeper) ReplenishPools(ctx sdk.Context) {\n",
    "\tdelta := k.GetTerraPoolDelta(ctx)\n",
    "\tregressionAmt := delta.QuoInt64(k.PoolRecoveryPeriod(ctx))\n",
    "\n",
    "\t// Replenish terra pool towards base pool\n",
    "\t// regressionAmt cannot make delta zero\n",
    "\tdelta = delta.Sub(regressionAmt)\n",
    "\n",
    "\tk.SetTerraPoolDelta(ctx, delta)\n",
    "}\n",
    "```\n",
    "\n"
   ]
  },
  {
   "cell_type": "code",
   "execution_count": 50,
   "metadata": {},
   "outputs": [],
   "source": [
    "# BankKeeper defines expected supply keeper\n",
    "class TerraBankModule:\n",
    "    \n",
    "    \n",
    "    def __new__(cls, *args, **kwargs):\n",
    "        return super().__new__(cls)\n",
    "    \n",
    "    def __init__(self):\n",
    "        self.accounts = pd.DataFrame(columns=[\"user_address\",\"luna\",\"ust\",\"sdr\"])\n",
    "        self.accounts.loc[0] = [\"\",0,0,0]\n",
    "        self.totalSupply = {\n",
    "        \"luna\": 0,\n",
    "        \"ust\": 0,\n",
    "        \"sdr\": 0,\n",
    "    }\n",
    "        \n",
    "    # TRANSFER TOKENS\n",
    "    def SendCoinsFromModuleToModule(self, senderAddr, recipientAddr,  coin):\n",
    "        sender = self.accounts.loc[self.accounts['user_address'] == senderAddr]\n",
    "#         print(sender)\n",
    "        if len(sender) == 0: # Return Error \n",
    "            return \"Sender doesn't exist\"\n",
    "\n",
    "        # balance check\n",
    "        sender_balance = int(self.accounts.loc[self.accounts['user_address'] == senderAddr][coin[\"denom\"]])        \n",
    "        if sender_balance < int(coin[\"amount\"]):\n",
    "            return \"insufficient balance\"        \n",
    "        \n",
    "        # Get recepient\n",
    "        recepient = self.accounts.loc[self.accounts['user_address'] == recipientAddr]\n",
    "#         print(recepient)\n",
    "        if len(recepient) == 0: # Create user \n",
    "            self.accounts.loc[len(self.accounts.index)] = [recipientAddr,0,0,0]  \n",
    "        recepient = self.accounts.loc[self.accounts['user_address'] == recipientAddr]\n",
    "        \n",
    "        # Update recepient user balance in the dataframe\n",
    "        recepient_balance = int(recepient[coin['denom']])\n",
    "        self.accounts.loc[self.accounts['user_address'] == recipientAddr, coin[\"denom\"]] = recepient_balance + int(coin[\"amount\"])     \n",
    "        # Update sender user balance in the dataframe\n",
    "        self.accounts.loc[self.accounts['user_address'] == senderAddr, coin[\"denom\"]] = sender_balance - int(coin[\"amount\"])     \n",
    "        \n",
    "        # LOgging\n",
    "        new_sender_balance = int(self.accounts.loc[self.accounts['user_address'] == senderAddr][coin[\"denom\"]])        \n",
    "        new_recepient_balance = int(self.accounts.loc[self.accounts['user_address'] == recipientAddr][coin[\"denom\"]])        \n",
    "        print(f\"{int(coin['amount'])} {coin['denom']} TRANSFERRED FROM {senderAddr} TO {recipientAddr} :: NEW SENDER BALANCE = {new_sender_balance} {coin['denom']} : NEW RECEPIENT BALANCE {new_recepient_balance} {coin['denom']} \\n\")\n",
    "    \n",
    "    \n",
    "    # TRANSFER TOKENS\n",
    "    def SendCoinsFromAccountToModule(self, senderAddr, recipientAddr,  coin):\n",
    "        sender = self.accounts.loc[self.accounts['user_address'] == senderAddr]\n",
    "#         print(sender)\n",
    "        if len(sender) == 0: # Return Error \n",
    "            return \"Sender doesn't exist\"\n",
    "\n",
    "        # balance check\n",
    "        sender_balance = int(self.accounts.loc[self.accounts['user_address'] == senderAddr][coin[\"denom\"]])        \n",
    "        if sender_balance < int(coin[\"amount\"]):\n",
    "            return \"insufficient balance\"        \n",
    "        \n",
    "        # Get recepient\n",
    "        recepient = self.accounts.loc[self.accounts['user_address'] == recipientAddr]\n",
    "#         print(recepient)\n",
    "        if len(recepient) == 0: # Create user \n",
    "            self.accounts.loc[len(self.accounts.index)] = [recipientAddr,0,0,0]  \n",
    "        recepient = self.accounts.loc[self.accounts['user_address'] == recipientAddr]\n",
    "        \n",
    "        # Update recepient user balance in the dataframe\n",
    "        recepient_balance = int(recepient[coin['denom']])\n",
    "        self.accounts.loc[self.accounts['user_address'] == recipientAddr, coin[\"denom\"]] = recepient_balance + int(coin[\"amount\"])     \n",
    "        # Update sender user balance in the dataframe\n",
    "        self.accounts.loc[self.accounts['user_address'] == senderAddr, coin[\"denom\"]] = sender_balance - int(coin[\"amount\"])     \n",
    "        \n",
    "        # LOgging\n",
    "        new_sender_balance = int(self.accounts.loc[self.accounts['user_address'] == senderAddr][coin[\"denom\"]])        \n",
    "        new_recepient_balance = int(self.accounts.loc[self.accounts['user_address'] == recipientAddr][coin[\"denom\"]])        \n",
    "        print(f\"{int(coin['amount'])} {coin['denom']} TRANSFERRED FROM {senderAddr} TO {recipientAddr} :: NEW SENDER BALANCE = {new_sender_balance} {coin['denom']} : NEW RECEPIENT BALANCE {new_recepient_balance} {coin['denom']} \\n\")\n",
    "    \n",
    "    \n",
    "    # MINT NEW TOKENS\n",
    "    def MintCoins(self, recipientAddr, coin):\n",
    "        # get recepient\n",
    "        recepient = self.accounts.loc[self.accounts['user_address'] == recipientAddr]\n",
    "        if len(recepient) == 0: # Create user \n",
    "            self.accounts.loc[len(self.accounts.index)] = [recipientAddr,0,0,0]  \n",
    "        recepient = self.accounts.loc[self.accounts['user_address'] == recipientAddr]\n",
    "\n",
    "        # Update recepient user balance in the dataframe\n",
    "        cur_balance = int(recepient[coin['denom']])\n",
    "        self.accounts.loc[self.accounts['user_address'] == recipientAddr, coin[\"denom\"]] = cur_balance + int(coin[\"amount\"])     \n",
    "        \n",
    "        # Update total accounted token supply\n",
    "        self.totalSupply[coin[\"denom\"]] = self.totalSupply[coin[\"denom\"]] + coin[\"amount\"]\n",
    "\n",
    "        # LOgging\n",
    "        new_balance = int(self.accounts.loc[self.accounts['user_address'] == recipientAddr][coin[\"denom\"]])\n",
    "        print(f\"{int(coin['amount'])} {coin['denom']} MINTED :: USER = {recipientAddr} NEW BALANCE {new_balance} {coin['denom']} \\n\")\n",
    "\n",
    "       \n",
    "    # BURN TOKENS\n",
    "    def BurnCoins(self, senderAddr, coin):\n",
    "        # get sender\n",
    "        sender = self.accounts.loc[self.accounts['user_address'] == senderAddr]\n",
    "        if len(sender) == 0: # Return Error \n",
    "            return \"Sender doesn't exist\"\n",
    "        # balance check\n",
    "        sender_balance = int(self.accounts.loc[self.accounts['user_address'] == senderAddr][coin[\"denom\"]])        \n",
    "        if sender_balance < int(coin[\"amount\"]):\n",
    "            return \"insufficient balance\"                \n",
    "        \n",
    "        # Update sender user balance in the dataframe\n",
    "        cur_balance = int(sender[coin['denom']])\n",
    "        self.accounts.loc[self.accounts['user_address'] == senderAddr, coin[\"denom\"]] = cur_balance - int(coin[\"amount\"])     \n",
    "        \n",
    "        # Update total accounted token supply\n",
    "        self.totalSupply[coin[\"denom\"]] = self.totalSupply[coin[\"denom\"]] - coin[\"amount\"]\n",
    "\n",
    "        # LOgging\n",
    "        new_balance = int(self.accounts.loc[self.accounts['user_address'] == senderAddr][coin[\"denom\"]])\n",
    "        print(f\"{int(coin['amount'])} {coin['denom']} BURNT :: USER = {senderAddr} NEW BALANCE {new_balance} {coin['denom']} \\n\")\n",
    "\n",
    "           \n",
    "        \n",
    "    # GET USER BALANCE\n",
    "    def GetBalance(self, addr, denom):\n",
    "        user = self.accounts.loc[self.accounts['user_address'] == addr][denom]\n",
    "        len_ = len(user)\n",
    "        if len(user) == 0:\n",
    "            self.accounts.loc[self.accounts.index] = [addr,0,0,0]\n",
    "            return 0\n",
    "        return user[0][denom]\n",
    "        \n",
    "\n",
    "    def GetTotalSupply(self, denom):\n",
    "        return self.totalSupply[denom]\n",
    "    \n",
    "    \n",
    "    def SpendableCoins(self,ctx, addr):\n",
    "        pass\n",
    "\n",
    "    def IsSendEnabledCoin(self,ctx, coin):\n",
    "        pass"
   ]
  },
  {
   "cell_type": "code",
   "execution_count": null,
   "metadata": {},
   "outputs": [],
   "source": [
    "\n",
    "\n",
    "\n",
    "\n"
   ]
  },
  {
   "cell_type": "code",
   "execution_count": 48,
   "metadata": {},
   "outputs": [
    {
     "name": "stdout",
     "output_type": "stream",
     "text": [
      "100 ust MINTED :: USER = user1 NEW BALANCE 100 ust \n",
      "\n",
      "  user_address  luna  ust  sdr\n",
      "1        user1     0  100    0\n",
      "100 ust MINTED :: USER = user2 NEW BALANCE 100 ust \n",
      "\n",
      "  user_address  luna  ust  sdr\n",
      "2        user2     0  100    0\n"
     ]
    }
   ],
   "source": [
    "terra_bank = TerraBankModule()\n",
    "\n",
    "# terra_bank.GetBalance(\"user1\",\"ust\")\n",
    "# terra_bank.GetTotalSupply(\"ust\")\n",
    "terra_bank.MintCoins(\"user1\",{\"denom\":\"ust\", \"amount\":100})\n",
    "# terra_bank.MintCoins(\"user1\",{\"denom\":\"ust\", \"amount\":100})\n",
    "# terra_bank.MintCoins(\"user1\",{\"denom\":\"sdr\", \"amount\":100})\n",
    "# terra_bank.MintCoins(\"user1\",{\"denom\":\"ust\", \"amount\":100})\n",
    "# terra_bank.MintCoins(\"user1\",{\"denom\":\"ust\", \"amount\":100})\n",
    "# terra_bank.MintCoins(\"user1\",{\"denom\":\"luna\", \"amount\":100})\n",
    "# terra_bank.MintCoins(\"user1\",{\"denom\":\"sdr\", \"amount\":100})\n",
    "# terra_bank.MintCoins(\"user1\",{\"denom\":\"luna\", \"amount\":100})\n",
    "\n",
    "terra_bank.MintCoins(\"user2\",{\"denom\":\"ust\", \"amount\":100})\n",
    "# terra_bank.MintCoins(\"user2\",{\"denom\":\"sdr\", \"amount\":100})\n",
    "# terra_bank.MintCoins(\"user2\",{\"denom\":\"ust\", \"amount\":100})\n",
    "# terra_bank.MintCoins(\"user2\",{\"denom\":\"ust\", \"amount\":100})\n",
    "# terra_bank.MintCoins(\"user2\",{\"denom\":\"luna\", \"amount\":100})\n",
    "# terra_bank.MintCoins(\"user2\",{\"denom\":\"sdr\", \"amount\":100})\n",
    "# terra_bank.MintCoins(\"user2\",{\"denom\":\"luna\", \"amount\":100})\n",
    "# terra_bank.totalSupply\n",
    "# terra_bank.SendCoinsFromAccountToModule(\"user1\", \"user2\",  {\"denom\":\"ust\", \"amount\":100} )\n",
    "\n",
    "\n",
    "\n",
    "#        \"luna\": .,\n",
    "#         \"ust\": 0,\n",
    "#         \"usdr\": 0,\n",
    "\n"
   ]
  },
  {
   "cell_type": "code",
   "execution_count": 49,
   "metadata": {},
   "outputs": [
    {
     "name": "stdout",
     "output_type": "stream",
     "text": [
      "100 ust TRANSFERRED FROM user1 TO user2 :: NEW SENDER BALANCE = 0 ust : NEW RECEPIENT BALANCE 200 ust \n",
      "\n"
     ]
    }
   ],
   "source": [
    "# terra_bank.totalSupply\n",
    "terra_bank.SendCoinsFromAccountToModule(\"user1\", \"user2\",  {\"denom\":\"ust\", \"amount\":100} )\n",
    "# terra_bank.MintCoins(\"user2\",{\"denom\":\"sdr\", \"amount\":100})"
   ]
  },
  {
   "cell_type": "code",
   "execution_count": null,
   "metadata": {},
   "outputs": [],
   "source": []
  },
  {
   "cell_type": "code",
   "execution_count": null,
   "metadata": {},
   "outputs": [],
   "source": []
  },
  {
   "cell_type": "code",
   "execution_count": null,
   "metadata": {},
   "outputs": [],
   "source": []
  },
  {
   "cell_type": "code",
   "execution_count": null,
   "metadata": {
    "pycharm": {
     "name": "#%%\n"
    }
   },
   "outputs": [],
   "source": [
    "from dataclasses import dataclass\n",
    "\n",
    "\n",
    "\n",
    "\n",
    "\n",
    "\n",
    "\n",
    "\n",
    "\n",
    "class TerraMarketModule:\n",
    "    \n",
    "    basepool : str = \"250000000000.0\"\n",
    "    minstabilityspread : str = \"0.01000000\"\n",
    "    poolrecoveryperiod : int = 14400\n",
    "    delta = 0\n",
    "\n",
    "    # Keeps track of token balances\n",
    "    BankKeeper : TerraBankModule = TerraBankModule()\n",
    "    \n",
    "        \n",
    "\n",
    "    # Market module provides swap functionality based on constant product mechanism. Terra pool have to keep \n",
    "    # its delta to track the currency demands for swap spread. \n",
    "    # Luna pool can be retrived from Terra pool delta with following function:\n",
    "    def get_LunaPool_fromTerraPool(self):\n",
    "        terraPool = self.basepool + self.delta\n",
    "        lunaPool = (self.basepool * self.basepool) / terraPool\n",
    "        return lunaPool\n",
    "\n",
    "    # GetTerraPoolDelta returns the gap between the TerraPool and the TerraBasePool\n",
    "    def GetTerraPoolDelta(self):\n",
    "        return self.delta\n",
    "\n",
    "    # // SetTerraPoolDelta updates TerraPoolDelta which is gap between the TerraPool and the BasePool\n",
    "    def SetTerraPoolDelta(self,delta):\n",
    "        self.delta = delta\n",
    "\n",
    "    # USER INTERACTION - SWAP FUNCTION\n",
    "    def Swap(msgparams) : #(*types.MsgSwapResponse, error)\n",
    "        self.handleSwapRequest(msgparams)\n",
    "\n",
    "\n",
    "    # USER INTERACTION - SWAPSEND FUNCTION\n",
    "    def SwapSend(msgparams): #(*types.MsgSwapSendResponse, error)\n",
    "        res = self.handleSwapRequest(msgparams)\n",
    "        return MsgSwapSendResponse{\n",
    "                SwapCoin: res.SwapCoin,\n",
    "                SwapFee:  res.SwapFee,\n",
    "                }\n",
    "        \n",
    "    # INTERNAL FUNCTION\n",
    "    # // handleMsgSwap handles the logic of a MsgSwap\n",
    "    # // This function does not repeat checks that have already been performed\n",
    "    # // Ex) assert(offerCoin.Denom != askDenom)\n",
    "    def handleSwapRequest(ctx,trader, receiver ,\n",
    "                          offerCoin sdk.Coin, askDenom string): # (*types.MsgSwapResponse, error):\n",
    "        trader : str = msgparams.trader\n",
    "        receiver : str= msgparams.receiver\n",
    "        offerCoin : Coin = msgparams.coin\n",
    "        askDenom : str = msgparams.askDenom\n",
    "\n",
    "        #  Compute exchange rates between the ask and offer\n",
    "        (swapDecCoin, spread, err) = self.ComputeSwap(offerCoin, askDenom)\n",
    "        if err != None:\n",
    "            return None, err\n",
    "\n",
    "        #  Charge a spread if applicable; the spread is burned\n",
    "        feeDecCoin : Coin\n",
    "        if spread > 0:\n",
    "            feeDecCoin = Coin(denom = swapDecCoin[\"denom\"], amount = spread * swapDecCoin[\"amount\"]) \n",
    "        else:\n",
    "            feeDecCoin = Coin(denom = swapDecCoin[\"denom\"], amount = 0 ) \n",
    "\n",
    "        # Subtract fee from the swap coin\n",
    "        swapDecCoin[\"amount\"] = swapDecCoin[\"amount\"] - feeDecCoin[\"amount\"]\n",
    "\n",
    "        # Update pool delta\n",
    "        err = self.ApplySwapToPool(offerCoin, swapDecCoin)\n",
    "        if err != None:\n",
    "            return None, err\n",
    "\n",
    "        # Send offer coins to module account\n",
    "        err = self.BankKeeper.SendCoinsFromAccountToModule(trader, \"market\", offerCoin)\n",
    "        if err != None:\n",
    "            return None, err\n",
    "\n",
    "        # Burn offered coins and subtract from the trader's account\n",
    "        err = self.BankKeeper.BurnCoins(\"market\", offerCoin)\n",
    "        if err != None:\n",
    "            return None, err\n",
    "\n",
    "        # Mint asked coins and credit Trader's account\n",
    "#         swapCoin, decimalCoin = swapDecCoin.TruncateDecimal()\n",
    "#         feeDecCoin = feeDecCoin.Add(decimalCoin) # add truncated decimalCoin to swapFee\n",
    "#         feeCoin, _ := feeDecCoin.TruncateDecimal()\n",
    "        mintCoins = Coin(denom = swapCoin[\"denom\"], amount=swapCoin[\"amount\"]+feeDecCoin[\"amount\"])\n",
    "        err = self.BankKeeper.MintCoins(\"market\", mintCoins)\n",
    "        if err != None:\n",
    "            return None, err\n",
    "\n",
    "        # Send swap coin to the trader\n",
    "        err = self.BankKeeper.SendCoinsFromModuleToAccount(\"market\", receiver, swapCoins)\n",
    "        if err != None:\n",
    "            return None, err\n",
    "\n",
    "        # Send swap fee to oracle account\n",
    "        if feeCoin > 0:\n",
    "            err = self.BankKeeper.SendCoinsFromModuleToModule(\"market\", \"oracle\", feeCoin)\n",
    "            if err != None:\n",
    "                return None, err\n",
    "\n",
    "#         event = EventSwap {\n",
    "#                     (types.AttributeKeyOffer, offerCoin.String()),\n",
    "#                     (types.AttributeKeyTrader, trader.String()),\n",
    "#                     (types.AttributeKeyRecipient, receiver.String()),\n",
    "#                     (types.AttributeKeySwapCoin, swapCoin.String()),\n",
    "#                     (types.AttributeKeySwapFee, feeCoin.String()),\n",
    "#                 }\n",
    "        return MsgSwapResponse{\n",
    "                    SwapCoin: swapCoin,\n",
    "                    SwapFee:  feeCoin,\n",
    "                    }, None\n",
    "\n",
    "    # END--BLOCK FUNCTION    \n",
    "    # EndBlocker is called at the end of every block\n",
    "    def TerraMarketModuleEndBlock():\n",
    "        # Replenishes each pools towards equilibrium\n",
    "        self.ReplenishPools()\n",
    "    \n",
    "    # INTERNAL FUNCTION\n",
    "    # Replenishes each pools towards equilibrium\n",
    "    def fn ReplenishPools():\n",
    "        # Get current pool delta\n",
    "        poolDelta = self.GetTerraPoolDelta()\n",
    "        # Calculate Pool Regression Amount with current Pool Recovery period\n",
    "        poolRegressionAmt = poolDelta.QuoInt64(self.poolRecoveryPeriod)\n",
    "        # Replenish terra pool towards base pool regressionAmt cannot make delta zero\n",
    "        poolDelta = poolDelta - poolRegressionAmt\n",
    "        # Update Delta\n",
    "        self.SetTerraPoolDelta(poolDelta)\n",
    "\n",
    "        \n",
    "\n",
    "\n",
    "\n",
    "    # // ApplySwapToPool updates each pool with offerCoin and askCoin taken from swap operation,\n",
    "    # // OfferPool = OfferPool + offerAmt (Fills the swap pool with offerAmt)\n",
    "    # // AskPool = AskPool - askAmt       (Uses askAmt from the swap pool)\n",
    "    def  ApplySwapToPool(self, ctx sdk.Context, offerCoin sdk.Coin, askCoin sdk.DecCoin) error :\n",
    "        #// No delta update in case Terra to Terra swap\n",
    "        if offerCoin.Denom != core.MicroLunaDenom && askCoin.Denom != core.MicroLunaDenom:\n",
    "            return nil\n",
    "        \n",
    "        terraPoolDelta := self.GetTerraPoolDelta(ctx)\n",
    "\n",
    "        #  // In case swapping Terra to Luna, the terra swap pool(offer) must be increased and the luna swap pool(ask) must be decreased\n",
    "        if offerCoin.Denom != core.MicroLunaDenom && askCoin.Denom == core.MicroLunaDenom:\n",
    "            offerBaseCoin, err := self.ComputeInternalSwap(ctx, sdk.NewDecCoinFromCoin(offerCoin), core.MicroSDRDenom)\n",
    "            if err != None:\n",
    "                return err\n",
    "            terraPoolDelta = terraPoolDelta.Add(offerBaseCoin.Amount)\n",
    "\n",
    "        #  // In case swapping Luna to Terra, the luna swap pool(offer) must be increased and the terra swap pool(ask) must be decreased\n",
    "        if offerCoin.Denom == core.MicroLunaDenom && askCoin.Denom != core.MicroLunaDenom {\n",
    "            askBaseCoin, err := k.ComputeInternalSwap(ctx, askCoin, core.MicroSDRDenom)\n",
    "            if err != None:\n",
    "                return err\n",
    "            terraPoolDelta = terraPoolDelta.Sub(askBaseCoin.Amount)\n",
    "\n",
    "        self.SetTerraPoolDelta(ctx, terraPoolDelta)\n",
    "\n",
    "        return None\n",
    "\n",
    "    # // ComputeSwap returns the amount of asked coins should be returned for a given offerCoin at the effective\n",
    "    # // exchange rate registered with the oracle.\n",
    "    # // Returns an Error if the swap is recursive, or the coins to be traded are unknown by the oracle, or the amount\n",
    "    # // to trade is too small.\n",
    "    def ComputeSwap(self, ctx sdk.Context, offerCoin sdk.Coin, askDenom string) (retDecCoin sdk.DecCoin, spread sdk.Dec, err error):\n",
    "\n",
    "    # \t// Return invalid recursive swap err\n",
    "        if offerCoin.Denom == askDenom:\n",
    "            return sdk.DecCoin{}, sdk.ZeroDec(), sdkerrors.Wrap(types.ErrRecursiveSwap, askDenom)\n",
    "\n",
    "    #  // Swap offer coin to base denom for simplicity of swap process\n",
    "        baseOfferDecCoin, err := k.ComputeInternalSwap(ctx, sdk.NewDecCoinFromCoin(offerCoin), core.MicroSDRDenom)\n",
    "        if err != None:\n",
    "            return sdk.DecCoin{}, sdk.Dec{}, err\n",
    "\n",
    "    #   // Get swap amount based on the oracle price\n",
    "        retDecCoin, err = self.ComputeInternalSwap(ctx, baseOfferDecCoin, askDenom)\n",
    "        if err != None:\n",
    "            return sdk.DecCoin{}, sdk.Dec{}, err\n",
    "\n",
    "    # \t// Terra => Terra swap\n",
    "    # // Apply only tobin tax without constant product spread\n",
    "        if offerCoin.Denom != core.MicroLunaDenom && askDenom != core.MicroLunaDenom:\n",
    "            var tobinTax sdk.Dec\n",
    "            offerTobinTax, err2 := k.OracleKeeper.GetTobinTax(ctx, offerCoin.Denom)\n",
    "            if err2 != None :\n",
    "                return sdk.DecCoin{}, sdk.Dec{}, err2\n",
    "\n",
    "            askTobinTax, err2 := self.OracleKeeper.GetTobinTax(ctx, askDenom)\n",
    "            if err2 != None :\n",
    "                return sdk.DecCoin{}, sdk.Dec{}, err2\n",
    "\n",
    "            # Apply highest tobin tax for the denoms in the swap operation\n",
    "            if askTobinTax.GT(offerTobinTax) :\n",
    "                tobinTax = askTobinTax\n",
    "            else :\n",
    "                tobinTax = offerTobinTax\n",
    "\n",
    "            spread = tobinTax\n",
    "            return\n",
    "\n",
    "        basePool := self.BasePool(ctx)\n",
    "        minSpread := self.MinStabilitySpread(ctx)\n",
    "\n",
    "    #  constant-product, which by construction is square of base(equilibrium) pool\n",
    "        cp := basePool.Mul(basePool)\n",
    "        terraPoolDelta := self.GetTerraPoolDelta(ctx)\n",
    "        terraPool := basePool.Add(terraPoolDelta)\n",
    "        lunaPool := cp.Quo(terraPool)\n",
    "\n",
    "        var offerPool sdk.Dec # base denom(usdr) unit\n",
    "        var askPool sdk.Dec   # base denom(usdr) unit\n",
    "        if offerCoin.Denom != core.MicroLunaDenom:\n",
    "            #  Terra->Luna swap\n",
    "            offerPool = terraPool\n",
    "            askPool = lunaPool\n",
    "        else:\n",
    "            # Luna->Terra swap\n",
    "            offerPool = lunaPool\n",
    "            askPool = terraPool\n",
    "\n",
    "        # \t// Get cp(constant-product) based swap amount\n",
    "        # \t// askBaseAmount = askPool - cp / (offerPool + offerBaseAmount)\n",
    "        # \t// askBaseAmount is base denom(usdr) unit\n",
    "        askBaseAmount := askPool.Sub(cp.Quo(offerPool.Add(baseOfferDecCoin.Amount)))\n",
    "\n",
    "        # \t// Both baseOffer and baseAsk are usdr units, so spread can be calculated by\n",
    "        # \t// spread = (baseOfferAmt - baseAskAmt) / baseOfferAmt\n",
    "        baseOfferAmount := baseOfferDecCoin.Amount\n",
    "        spread = baseOfferAmount.Sub(askBaseAmount).Quo(baseOfferAmount)\n",
    "\n",
    "        if spread.LT(minSpread):\n",
    "            spread = minSpread\n",
    "\n",
    "        return\n",
    "\n",
    "# // ComputeInternalSwap returns the amount of asked DecCoin should be returned for a given offerCoin at the effective\n",
    "# // exchange rate registered with the oracle.\n",
    "# // Different from ComputeSwap, ComputeInternalSwap does not charge a spread as its use is system internal.\n",
    "    def ComputeInternalSwap(self, ctx sdk.Context, offerCoin sdk.DecCoin, askDenom string) (sdk.DecCoin, error):\n",
    "        if offerCoin.Denom == askDenom:\n",
    "            return offerCoin, nil\n",
    "\n",
    "        offerRate, err := self.OracleKeeper.GetLunaExchangeRate(ctx, offerCoin.Denom)\n",
    "        if err != None:\n",
    "            return sdk.DecCoin{}, sdkerrors.Wrap(types.ErrNoEffectivePrice, offerCoin.Denom)\n",
    "\n",
    "        askRate, err := self.OracleKeeper.GetLunaExchangeRate(ctx, askDenom)\n",
    "        if err != None:\n",
    "            return sdk.DecCoin{}, sdkerrors.Wrap(types.ErrNoEffectivePrice, askDenom)\n",
    "\n",
    "        retAmount := offerCoin.Amount.Mul(askRate).Quo(offerRate)\n",
    "        if retAmount.LTE(sdk.ZeroDec()):\n",
    "            return sdk.DecCoin{}, sdkerrors.Wrap(sdkerrors.ErrInvalidCoins, offerCoin.String())\n",
    "\n",
    "        return sdk.NewDecCoinFromDec(askDenom, retAmount), nil\n",
    "\n",
    "    # // simulateSwap interface for simulate swap\n",
    "    def simulateSwap(self, ctx sdk.Context, offerCoin sdk.Coin, askDenom string) (sdk.Coin, error):\n",
    "        if askDenom == offerCoin.Denom :\n",
    "            return sdk.Coin{}, sdkerrors.Wrap(types.ErrRecursiveSwap, askDenom)\n",
    "\n",
    "        if offerCoin.Amount.BigInt().BitLen() > 100 :\n",
    "            return sdk.Coin{}, sdkerrors.Wrap(sdkerrors.ErrInvalidCoins, offerCoin.String())\n",
    "\n",
    "        swapCoin, spread, err := self.ComputeSwap(ctx, offerCoin, askDenom)\n",
    "        if err != None:\n",
    "            return sdk.Coin{}, sdkerrors.Wrap(sdkerrors.ErrPanic, err.Error())\n",
    "\n",
    "        if spread.IsPositive():\n",
    "            swapFeeAmt := spread.Mul(swapCoin.Amount)\n",
    "            if swapFeeAmt.IsPositive():\n",
    "                swapFee := sdk.NewDecCoinFromDec(swapCoin.Denom, swapFeeAmt)\n",
    "                swapCoin = swapCoin.Sub(swapFee)\n",
    "\n",
    "        retCoin, _ := swapCoin.TruncateDecimal()\n",
    "        return retCoin, nil\n",
    "\n",
    "\n",
    "\n",
    "        \n",
    "        \n",
    "        \n",
    "        \n",
    "        \n",
    "        \n",
    "        \n",
    "        \n",
    "        \n",
    "        \n",
    "        \n",
    "\n",
    "\n",
    "class dec:\n",
    "    amount: int = 0\n",
    "\n",
    "@datclass\n",
    "class cosmos_sdk:\n",
    "    pass\n",
    "    \n",
    "    \n",
    "\n",
    "\n",
    "\n",
    "\n",
    "# // AccountKeeper is expected keeper for auth module\n",
    "class AccountKeeper:\n",
    "    def GetModuleAddress(self, name: str) -> sdk.AccAddress:\n",
    "        pass\n",
    "    def GetModuleAccount(self, ctx sdk.Context, moduleName str) -> authtypes.ModuleAccountI\n",
    "        pass\n",
    "    def GetAccount(self,ctx sdk.Context, addr sdk.AccAddress) -> authtypes.AccountI\n",
    "        pass\n",
    "\n",
    "    \n",
    "\n",
    " # // OracleKeeper defines expected oracle keeper\n",
    "class OracleKeeper:\n",
    "    def GetLunaExchangeRate(self,ctx sdk.Context, denom string) -> (price sdk.Dec, err error)\n",
    "        pass\n",
    "    def GetTobinTax(self,ctx sdk.Context, denom string) -> (tobinTax sdk.Dec, err error)\n",
    "        pass\n",
    "\n",
    "    # only used for simulation\n",
    "    def IterateLunaExchangeRates(self,ctx sdk.Context, handler func(denom string, exchangeRate sdk.Dec) (stop bool)) \n",
    "\n",
    "    pass\n",
    "    def SetLunaExchangeRate(self,ctx sdk.Context, denom string, exchangeRate sdk.Dec) \n",
    "        pass\n",
    "    def SetTobinTax(self,ctx sdk.Context, denom string, tobinTax sdk.Dec) \n",
    "        pass\n",
    "    \n",
    "\n",
    "\n",
    "# // TobinTax - struct to store tobin tax for the specific denom with high volatility\n",
    "type TobinTax struct {\n",
    "    Denom   str,\n",
    "    TaxRate sdk.Dec \n",
    "}\n",
    "\n",
    "\n",
    "ctx = {\n",
    "    \n",
    "}\n",
    "\n",
    "\n",
    "keeper = {\n",
    "    \n",
    "}\n",
    "\n",
    "\n",
    "    \n",
    "    \n",
    "\n",
    "# // Keeper of the market store\n",
    "class Keeper :\n",
    "    storeKey   sdk.StoreKey\n",
    "    cdc        codec.BinaryCodec\n",
    "    paramSpace paramstypes.Subspace\n",
    "    AccountKeeper AccountKeeper # instance of class defined above\n",
    "    BankKeeper    BankKeeper    # instance of class defined above\n",
    "    OracleKeeper OracleKeeper   # instance of class defined above\n",
    "\n",
    "    # // NewKeeper constructs a new keeper for oracle\n",
    "    def NewKeeper(self, dc codec.BinaryCodec,\n",
    "        storeKey sdk.StoreKey,\n",
    "        paramstore paramstypes.Subspace,\n",
    "        accountKeeper types.AccountKeeper,\n",
    "        bankKeeper types.BankKeeper,\n",
    "        oracleKeeper types.OracleKeeper,):\n",
    "                    self.storeKey:storeKey,\n",
    "                    self.cdc :cdc,\n",
    "                    self.paramSpace : paramSpace,\n",
    "                    self.AccountKeeper: AccountKeeper, \n",
    "                    self.BankKeeper : BankKeeper, \n",
    "                    self.OracleKeeper:  OracleKeeper  \n",
    "\n",
    "\n",
    "\n",
    "\n",
    "\n",
    "\n",
    "    # BasePool is liquidity pool(usdr unit) which will be made available per PoolRecoveryPeriod\n",
    "    def BasePool(self, ctx sdk.Context) (res sdk.Dec) :\n",
    "        self.paramSpace.Get(ctx, types.KeyBasePool, &res)\n",
    "        return\n",
    "\n",
    "    # MinStabilitySpread is the minimum spread applied to swaps to / from Luna.\n",
    "    # Intended to prevent swing trades exploiting oracle period delays\n",
    "    def MinStabilitySpread(self, ctx sdk.Context) (res sdk.Dec):\n",
    "        k.paramSpace.Get(ctx, types.KeyMinStabilitySpread, &res)\n",
    "        return\n",
    "\n",
    "    # PoolRecoveryPeriod is the period required to recover Terra&Luna Pools to the MintBasePool & BurnBasePool\n",
    "    def PoolRecoveryPeriod(self, ctx sdk.Context) (res uint64):\n",
    "        k.paramSpace.Get(ctx, types.KeyPoolRecoveryPeriod, &res)\n",
    "        return\n",
    "\n",
    "    # GetParams returns the total set of market parameters.\n",
    "    def GetParams(self, ctx sdk.Context) (params types.Params):\n",
    "        k.paramSpace.GetParamSet(ctx, &params)\n",
    "        return params\n",
    "\n",
    "    # SetParams sets the total set of market parameters.\n",
    "    def SetParams(self, ctx sdk.Context, params types.Params):\n",
    "        k.paramSpace.SetParamSet(ctx, &params)\n",
    "\n",
    "\n"
   ]
  },
  {
   "cell_type": "code",
   "execution_count": null,
   "metadata": {
    "pycharm": {
     "name": "#%%\n"
    }
   },
   "outputs": [],
   "source": []
  },
  {
   "cell_type": "code",
   "execution_count": null,
   "metadata": {
    "pycharm": {
     "name": "#%%\n"
    }
   },
   "outputs": [],
   "source": []
  },
  {
   "cell_type": "code",
   "execution_count": null,
   "metadata": {
    "pycharm": {
     "name": "#%%\n"
    }
   },
   "outputs": [],
   "source": []
  },
  {
   "cell_type": "code",
   "execution_count": null,
   "metadata": {
    "pycharm": {
     "name": "#%%\n"
    }
   },
   "outputs": [],
   "source": []
  },
  {
   "cell_type": "code",
   "execution_count": null,
   "metadata": {
    "pycharm": {
     "name": "#%%\n"
    }
   },
   "outputs": [],
   "source": []
  },
  {
   "cell_type": "code",
   "execution_count": null,
   "metadata": {
    "pycharm": {
     "name": "#%%\n"
    }
   },
   "outputs": [],
   "source": []
  },
  {
   "cell_type": "code",
   "execution_count": null,
   "metadata": {
    "pycharm": {
     "name": "#%%\n"
    }
   },
   "outputs": [],
   "source": []
  },
  {
   "cell_type": "code",
   "execution_count": null,
   "metadata": {
    "pycharm": {
     "name": "#%%\n"
    }
   },
   "outputs": [],
   "source": []
  },
  {
   "cell_type": "code",
   "execution_count": null,
   "metadata": {
    "pycharm": {
     "name": "#%%\n"
    }
   },
   "outputs": [],
   "source": []
  },
  {
   "cell_type": "code",
   "execution_count": null,
   "metadata": {
    "pycharm": {
     "name": "#%%\n"
    }
   },
   "outputs": [],
   "source": []
  },
  {
   "cell_type": "code",
   "execution_count": null,
   "metadata": {
    "pycharm": {
     "name": "#%%\n"
    }
   },
   "outputs": [],
   "source": []
  },
  {
   "cell_type": "code",
   "execution_count": null,
   "metadata": {
    "pycharm": {
     "name": "#%%\n"
    }
   },
   "outputs": [],
   "source": []
  },
  {
   "cell_type": "code",
   "execution_count": null,
   "metadata": {
    "pycharm": {
     "name": "#%%\n"
    }
   },
   "outputs": [],
   "source": []
  },
  {
   "cell_type": "code",
   "execution_count": null,
   "metadata": {
    "pycharm": {
     "name": "#%%\n"
    }
   },
   "outputs": [],
   "source": []
  },
  {
   "cell_type": "code",
   "execution_count": null,
   "metadata": {
    "pycharm": {
     "name": "#%%\n"
    }
   },
   "outputs": [],
   "source": []
  },
  {
   "cell_type": "code",
   "execution_count": null,
   "metadata": {
    "pycharm": {
     "name": "#%%\n"
    }
   },
   "outputs": [],
   "source": []
  },
  {
   "cell_type": "code",
   "execution_count": null,
   "metadata": {
    "pycharm": {
     "name": "#%%\n"
    }
   },
   "outputs": [],
   "source": []
  }
 ],
 "metadata": {
  "kernelspec": {
   "display_name": "Python 3 (ipykernel)",
   "language": "python",
   "name": "python3"
  },
  "language_info": {
   "codemirror_mode": {
    "name": "ipython",
    "version": 3
   },
   "file_extension": ".py",
   "mimetype": "text/x-python",
   "name": "python",
   "nbconvert_exporter": "python",
   "pygments_lexer": "ipython3",
   "version": "3.8.9"
  }
 },
 "nbformat": 4,
 "nbformat_minor": 1
}
